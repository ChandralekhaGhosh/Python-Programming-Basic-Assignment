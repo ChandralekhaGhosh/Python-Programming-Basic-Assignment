{
 "cells": [
  {
   "cell_type": "markdown",
   "id": "4d549062",
   "metadata": {},
   "source": [
    "### Python Programming Basic Assignment 2"
   ]
  },
  {
   "cell_type": "markdown",
   "id": "ae4fd03e",
   "metadata": {},
   "source": [
    "1.\tWrite a Python program to convert kilometers to miles?"
   ]
  },
  {
   "cell_type": "code",
   "execution_count": 5,
   "id": "a1813468",
   "metadata": {},
   "outputs": [
    {
     "name": "stdout",
     "output_type": "stream",
     "text": [
      "Enter a number in kilometer47\n",
      "The value of 47 kilometer converted in Miles 29.204437 is\n"
     ]
    }
   ],
   "source": [
    "def km2ml():\n",
    "    x=int(input('Enter a number in kilometer'))\n",
    "    y=x*0.621371\n",
    "    print('The value of {} kilometer converted in Miles {} is'.format(x,y))\n",
    "km2ml()"
   ]
  },
  {
   "cell_type": "markdown",
   "id": "7276170d",
   "metadata": {},
   "source": [
    "2.\tWrite a Python program to convert Celsius to Fahrenheit?"
   ]
  },
  {
   "cell_type": "code",
   "execution_count": 17,
   "id": "e29a3a16",
   "metadata": {},
   "outputs": [
    {
     "name": "stdout",
     "output_type": "stream",
     "text": [
      "Enter a number in Celcious: 36.4\n",
      "The value of 36.4 degree Celcious converted into degree Farenhite is 97.52\n"
     ]
    }
   ],
   "source": [
    "def cel2fh():\n",
    "    x=float(input('Enter a number in Celcious: '))\n",
    "    y=(x*1.8)+32\n",
    "    print('The value of {} degree Celcious converted into degree Farenhite is {}'.format(x,y))\n",
    "cel2fh()"
   ]
  },
  {
   "cell_type": "markdown",
   "id": "f1460f78",
   "metadata": {},
   "source": [
    "3.\tWrite a Python program to display calendar?"
   ]
  },
  {
   "cell_type": "code",
   "execution_count": 22,
   "id": "085d9874",
   "metadata": {},
   "outputs": [
    {
     "name": "stdout",
     "output_type": "stream",
     "text": [
      "Enter year in YYYY format2019\n",
      "Enter year in MM format11\n",
      "   November 2019\n",
      "Mo Tu We Th Fr Sa Su\n",
      "             1  2  3\n",
      " 4  5  6  7  8  9 10\n",
      "11 12 13 14 15 16 17\n",
      "18 19 20 21 22 23 24\n",
      "25 26 27 28 29 30\n",
      "\n"
     ]
    }
   ],
   "source": [
    "import calendar\n",
    "year=int(input('Enter year in YYYY format'))\n",
    "month=int(input('Enter year in MM format'))\n",
    "if month>0 and month<=12:\n",
    "    print(calendar.month(year,month))\n",
    "else:\n",
    "    print(calendar.calendar(year))"
   ]
  },
  {
   "cell_type": "markdown",
   "id": "2e03c9b5",
   "metadata": {},
   "source": [
    "4.\tWrite a Python program to solve quadratic equation?"
   ]
  },
  {
   "cell_type": "code",
   "execution_count": 24,
   "id": "e1428467",
   "metadata": {},
   "outputs": [
    {
     "name": "stdout",
     "output_type": "stream",
     "text": [
      "40\n",
      "36\n",
      "96\n",
      "The solution are (-0.45-1.4823967080373595j) and (-0.45+1.4823967080373595j)\n"
     ]
    }
   ],
   "source": [
    "# Solve the quadratic equation ax**2 + bx + c = 0\n",
    "\n",
    "# import complex math module\n",
    "import cmath\n",
    "\n",
    "a = int(input())\n",
    "b = int(input())\n",
    "c = int(input())\n",
    "\n",
    "# calculate the discriminant\n",
    "d = (b**2) - (4*a*c)\n",
    "\n",
    "# find two solutions\n",
    "sol1 = (-b-cmath.sqrt(d))/(2*a)\n",
    "sol2 = (-b+cmath.sqrt(d))/(2*a)\n",
    "\n",
    "print('The solution are {0} and {1}'.format(sol1,sol2))"
   ]
  },
  {
   "cell_type": "markdown",
   "id": "c4c3f614",
   "metadata": {},
   "source": [
    "5.\tWrite a Python program to swap two variables without temp variable?"
   ]
  },
  {
   "cell_type": "code",
   "execution_count": 1,
   "id": "982ff166",
   "metadata": {},
   "outputs": [
    {
     "name": "stdout",
     "output_type": "stream",
     "text": [
      "enter a value of x12\n",
      "enter a value of y56\n",
      "Before swapping, the value of x is 12 and the value of y 56\n",
      "After swapping, the value of x is 56 and the value of y 12\n"
     ]
    }
   ],
   "source": [
    "x=input('enter a value of x')\n",
    "y=input('enter a value of y')\n",
    "\n",
    "print('Before swapping, the value of x is {} and the value of y {}'.format(x,y))\n",
    "x,y=y,x\n",
    "print('After swapping, the value of x is {} and the value of y {}'.format(x,y))\n"
   ]
  },
  {
   "cell_type": "code",
   "execution_count": null,
   "id": "d765bb30",
   "metadata": {},
   "outputs": [],
   "source": []
  },
  {
   "cell_type": "code",
   "execution_count": null,
   "id": "e18e8565",
   "metadata": {},
   "outputs": [],
   "source": []
  }
 ],
 "metadata": {
  "kernelspec": {
   "display_name": "Python 3",
   "language": "python",
   "name": "python3"
  },
  "language_info": {
   "codemirror_mode": {
    "name": "ipython",
    "version": 3
   },
   "file_extension": ".py",
   "mimetype": "text/x-python",
   "name": "python",
   "nbconvert_exporter": "python",
   "pygments_lexer": "ipython3",
   "version": "3.8.8"
  }
 },
 "nbformat": 4,
 "nbformat_minor": 5
}
