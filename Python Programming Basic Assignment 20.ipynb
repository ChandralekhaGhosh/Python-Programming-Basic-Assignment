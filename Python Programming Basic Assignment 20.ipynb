{
 "cells": [
  {
   "cell_type": "markdown",
   "id": "edfc3ca6",
   "metadata": {},
   "source": [
    "#### Python Programming Basic Assignment 20"
   ]
  },
  {
   "cell_type": "markdown",
   "id": "d76af573",
   "metadata": {},
   "source": [
    "Question1\n",
    "Create a function that takes a list of strings and integers, and filters out the list so that it returns a list of integers only.\n"
   ]
  },
  {
   "cell_type": "code",
   "execution_count": 6,
   "id": "23f1e5f9",
   "metadata": {},
   "outputs": [],
   "source": [
    "def filter_list(l):\n",
    "    l1=[]\n",
    "    if type(l)==list:\n",
    "        for i in l:\n",
    "            if type(i)==int:\n",
    "                l1.append(i)\n",
    "        return l1 \n",
    "    else:\n",
    "        print('Plz input a list')"
   ]
  },
  {
   "cell_type": "code",
   "execution_count": 9,
   "id": "45804f2d",
   "metadata": {},
   "outputs": [
    {
     "data": {
      "text/plain": [
       "[]"
      ]
     },
     "execution_count": 9,
     "metadata": {},
     "output_type": "execute_result"
    }
   ],
   "source": [
    "filter_list([\"Nothing\", \"here\"])"
   ]
  },
  {
   "cell_type": "markdown",
   "id": "b6c9609b",
   "metadata": {},
   "source": [
    "Question2\n",
    "Given a list of numbers, create a function which returns the list but with each element's index in the list added to itself. This means you add 0 to the number at index 0, add 1 to the number at index 1, etc...\n"
   ]
  },
  {
   "cell_type": "code",
   "execution_count": 35,
   "id": "f3f614e3",
   "metadata": {},
   "outputs": [],
   "source": [
    "def add_indexes(l):\n",
    "    try:\n",
    "        l1=[]\n",
    "        if type(l)==list:\n",
    "            for i in range(len(l)):\n",
    "                l1.append(l[i]+i)\n",
    "        else:\n",
    "            print('Plz enter a list of numbers')\n",
    "        return l1\n",
    "    except Exception as e:\n",
    "        print(e)"
   ]
  },
  {
   "cell_type": "code",
   "execution_count": 38,
   "id": "16b7e9e8",
   "metadata": {},
   "outputs": [
    {
     "data": {
      "text/plain": [
       "[1, 3, 5, 9]"
      ]
     },
     "execution_count": 38,
     "metadata": {},
     "output_type": "execute_result"
    }
   ],
   "source": [
    "add_indexes([1,2,3,6])"
   ]
  },
  {
   "cell_type": "markdown",
   "id": "3570ca5a",
   "metadata": {},
   "source": [
    "Question3\n",
    "Create a function that takes the height and radius of a cone as arguments and returns the volume of the cone rounded to the nearest hundredth. See the resources tab for the formula.\n"
   ]
  },
  {
   "cell_type": "code",
   "execution_count": 56,
   "id": "aa1af1ae",
   "metadata": {},
   "outputs": [],
   "source": [
    "class cone:\n",
    "    def __init__(self,h,r):\n",
    "        self.h=h\n",
    "        self.r=r\n",
    "    def __str__(self):\n",
    "        print('Its a class function for Cone')\n",
    "    \n",
    "    def vol(self):\n",
    "        volume=((3.14)*(self.r**2)*self.h)/3\n",
    "        return volume\n",
    "    "
   ]
  },
  {
   "cell_type": "code",
   "execution_count": 57,
   "id": "6e599c3c",
   "metadata": {},
   "outputs": [],
   "source": [
    "cone1=cone(18,0)"
   ]
  },
  {
   "cell_type": "code",
   "execution_count": 58,
   "id": "6d4f6a53",
   "metadata": {},
   "outputs": [
    {
     "data": {
      "text/plain": [
       "0.0"
      ]
     },
     "execution_count": 58,
     "metadata": {},
     "output_type": "execute_result"
    }
   ],
   "source": [
    "cone1.vol()"
   ]
  },
  {
   "cell_type": "code",
   "execution_count": 59,
   "id": "747f9ed2",
   "metadata": {},
   "outputs": [
    {
     "name": "stdout",
     "output_type": "stream",
     "text": [
      "Its a class function for Cone\n"
     ]
    },
    {
     "ename": "TypeError",
     "evalue": "__str__ returned non-string (type NoneType)",
     "output_type": "error",
     "traceback": [
      "\u001b[1;31m---------------------------------------------------------------------------\u001b[0m",
      "\u001b[1;31mTypeError\u001b[0m                                 Traceback (most recent call last)",
      "\u001b[1;32m<ipython-input-59-55258dc80506>\u001b[0m in \u001b[0;36m<module>\u001b[1;34m\u001b[0m\n\u001b[1;32m----> 1\u001b[1;33m \u001b[0mprint\u001b[0m\u001b[1;33m(\u001b[0m\u001b[0mcone1\u001b[0m\u001b[1;33m)\u001b[0m\u001b[1;33m\u001b[0m\u001b[1;33m\u001b[0m\u001b[0m\n\u001b[0m",
      "\u001b[1;31mTypeError\u001b[0m: __str__ returned non-string (type NoneType)"
     ]
    }
   ],
   "source": [
    "print(cone1)"
   ]
  },
  {
   "cell_type": "markdown",
   "id": "901f19aa",
   "metadata": {},
   "source": [
    "Question4\n",
    "This Triangular Number Sequence is generated from a pattern of dots that form a triangle. The first 5 numbers of the sequence, or dots, are: \n",
    "1, 3, 6, 10, 15\n",
    "This means that the first triangle has just one dot, the second one has three dots, the third one has 6 dots and so on.\n",
    "Write a function that gives the number of dots with its corresponding triangle number of the sequence.\n"
   ]
  },
  {
   "cell_type": "code",
   "execution_count": 78,
   "id": "8c06810f",
   "metadata": {},
   "outputs": [],
   "source": [
    "def triangle(n):\n",
    "    x=0\n",
    "    for i in range (0,n+1):\n",
    "        x=x+i                  #Cummulating\n",
    "    return x\n",
    "    "
   ]
  },
  {
   "cell_type": "code",
   "execution_count": 80,
   "id": "0cf532be",
   "metadata": {},
   "outputs": [
    {
     "data": {
      "text/plain": [
       "23220"
      ]
     },
     "execution_count": 80,
     "metadata": {},
     "output_type": "execute_result"
    }
   ],
   "source": [
    "triangle(215)"
   ]
  },
  {
   "cell_type": "markdown",
   "id": "fe312c23",
   "metadata": {},
   "source": [
    "Question5\n",
    "Create a function that takes a list of numbers between 1 and 10 (excluding one number) and returns the missing number.\n"
   ]
  },
  {
   "cell_type": "code",
   "execution_count": 98,
   "id": "57a08489",
   "metadata": {},
   "outputs": [],
   "source": [
    "import random\n",
    "def missing_num(l1):\n",
    "    l=[1,2,3,4,5,6,7,8,9,10]\n",
    "    for i in l:\n",
    "        if i not in l1:\n",
    "            return i\n",
    "    "
   ]
  },
  {
   "cell_type": "code",
   "execution_count": 101,
   "id": "011ce03b",
   "metadata": {},
   "outputs": [
    {
     "data": {
      "text/plain": [
       "7"
      ]
     },
     "execution_count": 101,
     "metadata": {},
     "output_type": "execute_result"
    }
   ],
   "source": [
    "missing_num([10, 5, 1, 2, 4, 6, 8, 3, 9])"
   ]
  }
 ],
 "metadata": {
  "kernelspec": {
   "display_name": "Python 3",
   "language": "python",
   "name": "python3"
  },
  "language_info": {
   "codemirror_mode": {
    "name": "ipython",
    "version": 3
   },
   "file_extension": ".py",
   "mimetype": "text/x-python",
   "name": "python",
   "nbconvert_exporter": "python",
   "pygments_lexer": "ipython3",
   "version": "3.8.8"
  }
 },
 "nbformat": 4,
 "nbformat_minor": 5
}
