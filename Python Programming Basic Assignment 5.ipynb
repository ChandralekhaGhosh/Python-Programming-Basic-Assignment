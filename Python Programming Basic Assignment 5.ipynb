{
 "cells": [
  {
   "cell_type": "markdown",
   "id": "73b0c904",
   "metadata": {},
   "source": [
    "#### Python Programming Basic Assignment 5"
   ]
  },
  {
   "cell_type": "markdown",
   "id": "9beb570e",
   "metadata": {},
   "source": [
    "1.\tWrite a Python Program to Find LCM?"
   ]
  },
  {
   "cell_type": "code",
   "execution_count": 38,
   "id": "cda85f91",
   "metadata": {},
   "outputs": [
    {
     "name": "stdout",
     "output_type": "stream",
     "text": [
      "The L.C.M. is 216\n"
     ]
    }
   ],
   "source": [
    "def compute_lcm(x, y):\n",
    "\n",
    "   # choose the greater number\n",
    "   if x > y:\n",
    "       greater = x\n",
    "   else:\n",
    "       greater = y\n",
    "\n",
    "   while(True):\n",
    "       if((greater % x == 0) and (greater % y == 0)):\n",
    "           lcm = greater\n",
    "           break\n",
    "       greater += 1\n",
    "\n",
    "   return lcm\n",
    "\n",
    "num1 = 54\n",
    "num2 = 24\n",
    "\n",
    "print(\"The L.C.M. is\", compute_lcm(num1, num2))"
   ]
  },
  {
   "cell_type": "code",
   "execution_count": 40,
   "id": "6a6290d4",
   "metadata": {},
   "outputs": [
    {
     "data": {
      "text/plain": [
       "50"
      ]
     },
     "execution_count": 40,
     "metadata": {},
     "output_type": "execute_result"
    }
   ],
   "source": [
    "compute_lcm(10,25)"
   ]
  },
  {
   "cell_type": "markdown",
   "id": "768f2250",
   "metadata": {},
   "source": [
    "2.\tWrite a Python Program to Find HCF?"
   ]
  },
  {
   "cell_type": "code",
   "execution_count": 30,
   "id": "0cb54623",
   "metadata": {},
   "outputs": [],
   "source": [
    "def HCF(n,m):\n",
    "    l1=[]\n",
    "    l2=[]\n",
    "    \n",
    "    for i in range(1,n):\n",
    "        if n%i==0:\n",
    "            l1.append(i)\n",
    "            s1=set(l1)\n",
    "    \n",
    "    for i in range(1,m):\n",
    "        if m%i==0:\n",
    "            l2.append(i)\n",
    "            s2=set(l2)\n",
    "    s=s1.intersection(s2)\n",
    "    \n",
    "    \n",
    "    return max(s)"
   ]
  },
  {
   "cell_type": "code",
   "execution_count": 37,
   "id": "0790f37c",
   "metadata": {},
   "outputs": [
    {
     "data": {
      "text/plain": [
       "7"
      ]
     },
     "execution_count": 37,
     "metadata": {},
     "output_type": "execute_result"
    }
   ],
   "source": [
    "HCF(105,154)"
   ]
  },
  {
   "cell_type": "code",
   "execution_count": 41,
   "id": "abebd7dd",
   "metadata": {},
   "outputs": [
    {
     "data": {
      "text/plain": [
       "22.0"
      ]
     },
     "execution_count": 41,
     "metadata": {},
     "output_type": "execute_result"
    }
   ],
   "source": [
    "154/7"
   ]
  },
  {
   "cell_type": "markdown",
   "id": "cbc1a10d",
   "metadata": {},
   "source": [
    "3.\tWrite a Python Program to Convert Decimal to Binary, Octal and Hexadecimal?"
   ]
  },
  {
   "cell_type": "code",
   "execution_count": 42,
   "id": "b247c6e5",
   "metadata": {},
   "outputs": [
    {
     "name": "stdout",
     "output_type": "stream",
     "text": [
      "The decimal value of 344 is:\n",
      "0b101011000 in binary.\n",
      "0o530 in octal.\n",
      "0x158 in hexadecimal.\n"
     ]
    }
   ],
   "source": [
    "# Python program to convert decimal into other number systems\n",
    "dec = 344\n",
    "\n",
    "print(\"The decimal value of\", dec, \"is:\")\n",
    "print(bin(dec), \"in binary.\")\n",
    "print(oct(dec), \"in octal.\")\n",
    "print(hex(dec), \"in hexadecimal.\")"
   ]
  },
  {
   "cell_type": "markdown",
   "id": "bb5e2647",
   "metadata": {},
   "source": [
    "4.\tWrite a Python Program To Find ASCII value of a character?"
   ]
  },
  {
   "cell_type": "code",
   "execution_count": 51,
   "id": "aec380b4",
   "metadata": {},
   "outputs": [],
   "source": [
    "def ASCII_value(n):\n",
    "    \n",
    "    print(\"The ASCII value of '\" + n + \"' is\", ord(n))"
   ]
  },
  {
   "cell_type": "code",
   "execution_count": 54,
   "id": "ab9028d2",
   "metadata": {},
   "outputs": [
    {
     "name": "stdout",
     "output_type": "stream",
     "text": [
      "The ASCII value of 'c' is 99\n"
     ]
    }
   ],
   "source": [
    "ASCII_value('c')"
   ]
  },
  {
   "cell_type": "markdown",
   "id": "884e02c9",
   "metadata": {},
   "source": [
    "5.\tWrite a Python Program to Make a Simple Calculator with 4 basic mathematical operations?"
   ]
  },
  {
   "cell_type": "code",
   "execution_count": 55,
   "id": "9752d1d0",
   "metadata": {},
   "outputs": [],
   "source": [
    "class basic_calc():\n",
    "    def __init__(self,num1,num2):\n",
    "        self.num1=num1\n",
    "        self.num2=num2\n",
    "        \n",
    "    def addition(self):\n",
    "        return self.num1+self.num2\n",
    "    \n",
    "    def subtraction(self):\n",
    "        if self.num1>self.num2:\n",
    "            return self.num1-self.num2\n",
    "        else:\n",
    "            return self.num2-self.num1\n",
    "        \n",
    "    def division(self):\n",
    "        return self.num1/self.num2\n",
    "    \n",
    "    def multiplication(self):\n",
    "        return self.num1*self.num2\n",
    "    "
   ]
  },
  {
   "cell_type": "code",
   "execution_count": 56,
   "id": "292ac4e0",
   "metadata": {},
   "outputs": [],
   "source": [
    "p=basic_calc(25,4)"
   ]
  },
  {
   "cell_type": "code",
   "execution_count": 57,
   "id": "21121b9e",
   "metadata": {},
   "outputs": [
    {
     "data": {
      "text/plain": [
       "29"
      ]
     },
     "execution_count": 57,
     "metadata": {},
     "output_type": "execute_result"
    }
   ],
   "source": [
    "p.addition()"
   ]
  },
  {
   "cell_type": "code",
   "execution_count": 58,
   "id": "c43a8ecb",
   "metadata": {},
   "outputs": [
    {
     "data": {
      "text/plain": [
       "6.25"
      ]
     },
     "execution_count": 58,
     "metadata": {},
     "output_type": "execute_result"
    }
   ],
   "source": [
    "p.division()"
   ]
  },
  {
   "cell_type": "code",
   "execution_count": 60,
   "id": "2d257fd6",
   "metadata": {},
   "outputs": [
    {
     "data": {
      "text/plain": [
       "100"
      ]
     },
     "execution_count": 60,
     "metadata": {},
     "output_type": "execute_result"
    }
   ],
   "source": [
    "p.multiplication()"
   ]
  },
  {
   "cell_type": "code",
   "execution_count": 61,
   "id": "df529def",
   "metadata": {},
   "outputs": [
    {
     "data": {
      "text/plain": [
       "21"
      ]
     },
     "execution_count": 61,
     "metadata": {},
     "output_type": "execute_result"
    }
   ],
   "source": [
    "p.subtraction()"
   ]
  },
  {
   "cell_type": "code",
   "execution_count": null,
   "id": "08a969ff",
   "metadata": {},
   "outputs": [],
   "source": []
  }
 ],
 "metadata": {
  "kernelspec": {
   "display_name": "Python 3",
   "language": "python",
   "name": "python3"
  },
  "language_info": {
   "codemirror_mode": {
    "name": "ipython",
    "version": 3
   },
   "file_extension": ".py",
   "mimetype": "text/x-python",
   "name": "python",
   "nbconvert_exporter": "python",
   "pygments_lexer": "ipython3",
   "version": "3.8.8"
  }
 },
 "nbformat": 4,
 "nbformat_minor": 5
}
