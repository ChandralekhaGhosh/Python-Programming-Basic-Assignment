{
 "cells": [
  {
   "cell_type": "markdown",
   "id": "950369a4",
   "metadata": {},
   "source": [
    "Python Programming Basic Assignment 13"
   ]
  },
  {
   "cell_type": "markdown",
   "id": "5bf59699",
   "metadata": {},
   "source": [
    "1.Write a program that calculates and prints the value according to the given formula:\n",
    "\n",
    "Q = Square root of [(2 * C * D)/H]\n",
    "\n",
    "Following are the fixed values of C and H:\n",
    "\n",
    "C is 50. H is 30.\n",
    "\n",
    "D is the variable whose values should be input to your program in a comma-separated sequence.\n"
   ]
  },
  {
   "cell_type": "code",
   "execution_count": 81,
   "id": "2db236bd",
   "metadata": {},
   "outputs": [],
   "source": [
    "def Q_formula(*args):\n",
    "    \n",
    "    C=50\n",
    "    H=30\n",
    "    l=[]\n",
    "    l1=[]\n",
    "    for i in args:\n",
    "        \n",
    "        l.append(i)\n",
    "        for j in l:\n",
    "            Q=round(((2*C*j)/H)**0.5)\n",
    "        l1.append(Q)\n",
    "        \n",
    "    return l1\n",
    "    #l.append(Q)\n",
    "    #\n",
    "   "
   ]
  },
  {
   "cell_type": "code",
   "execution_count": 82,
   "id": "af91faba",
   "metadata": {},
   "outputs": [
    {
     "data": {
      "text/plain": [
       "[18, 22, 24]"
      ]
     },
     "execution_count": 82,
     "metadata": {},
     "output_type": "execute_result"
    }
   ],
   "source": [
    "Q_formula(100,150,180)"
   ]
  },
  {
   "cell_type": "markdown",
   "id": "16b05fe9",
   "metadata": {},
   "source": [
    "Question 2:\n",
    "Write a program which takes 2 digits, X,Y as input and generates a 2-dimensional array. The element value in the i-th row and j-th column of the array should be i*j.\n"
   ]
  },
  {
   "cell_type": "code",
   "execution_count": null,
   "id": "e663a55a",
   "metadata": {},
   "outputs": [],
   "source": [
    "#Plz help"
   ]
  },
  {
   "cell_type": "markdown",
   "id": "b31db7e0",
   "metadata": {},
   "source": [
    "Question 3:\n",
    "Write a program that accepts a comma separated sequence of words as input and prints the words in a comma-separated sequence after sorting them alphabetically.\n"
   ]
  },
  {
   "cell_type": "code",
   "execution_count": 108,
   "id": "63ac71ab",
   "metadata": {},
   "outputs": [],
   "source": [
    "def comma_sort(*args):\n",
    "    l=[]\n",
    "    \n",
    "    for i in args:\n",
    "        l.append(i)\n",
    "        l.sort()\n",
    "    \n",
    "    return l\n",
    "        "
   ]
  },
  {
   "cell_type": "code",
   "execution_count": 109,
   "id": "1d18bb22",
   "metadata": {},
   "outputs": [
    {
     "data": {
      "text/plain": [
       "['bag', 'hello', 'without', 'world']"
      ]
     },
     "execution_count": 109,
     "metadata": {},
     "output_type": "execute_result"
    }
   ],
   "source": [
    "comma_sort('without','hello','bag','world')"
   ]
  },
  {
   "cell_type": "code",
   "execution_count": null,
   "id": "eba75372",
   "metadata": {},
   "outputs": [],
   "source": []
  },
  {
   "cell_type": "markdown",
   "id": "983bd033",
   "metadata": {},
   "source": [
    "Question 4:\n",
    "Write a program that accepts a sequence of whitespace separated words as input and prints the words after removing all duplicate words and sorting them alphanumerically.\n"
   ]
  },
  {
   "cell_type": "code",
   "execution_count": 131,
   "id": "1d5ccd19",
   "metadata": {},
   "outputs": [],
   "source": [
    "def whitespace_sort(w):\n",
    "    w=input('enter the string with white space: ')\n",
    "\n",
    "    l=w.split()\n",
    "    \n",
    "    s=set(l)\n",
    "    l1=list(s)\n",
    "    l1.sort()\n",
    "    for i in l1:\n",
    "        print(i,end=' ')\n",
    "    "
   ]
  },
  {
   "cell_type": "code",
   "execution_count": 132,
   "id": "dd50155e",
   "metadata": {},
   "outputs": [
    {
     "name": "stdout",
     "output_type": "stream",
     "text": [
      "enter the string with white space: hello world and practice makes perfect and hello world again\n",
      "again and hello makes perfect practice world "
     ]
    }
   ],
   "source": [
    "whitespace_sort('hello world and practice makes perfect and hello world again')"
   ]
  },
  {
   "cell_type": "markdown",
   "id": "6e6b9894",
   "metadata": {},
   "source": [
    "Question 5:\n",
    "Write a program that accepts a sentence and calculate the number of letters and digits.\n",
    "\n",
    "Suppose the following input is supplied to the program:\n"
   ]
  },
  {
   "cell_type": "code",
   "execution_count": 176,
   "id": "738c1dea",
   "metadata": {},
   "outputs": [],
   "source": [
    "def char_num(w):\n",
    "    \n",
    "    l_digit=[]\n",
    "    l_char=[]\n",
    "    \n",
    "    for i in range(len(w)):\n",
    "        if w[i].isdigit():\n",
    "            l_digit.append(w[i])\n",
    "        elif w[i].isalpha():\n",
    "            l_char.append(w[i])\n",
    "    Letters=print('Letters ', len(l_char))\n",
    "    Digits=print('Digits ',len(l_digit))\n",
    "    \n",
    "    return Letters,Digits"
   ]
  },
  {
   "cell_type": "code",
   "execution_count": 177,
   "id": "f1de9a67",
   "metadata": {},
   "outputs": [
    {
     "name": "stdout",
     "output_type": "stream",
     "text": [
      "Letters  10\n",
      "Digits  3\n"
     ]
    },
    {
     "data": {
      "text/plain": [
       "(None, None)"
      ]
     },
     "execution_count": 177,
     "metadata": {},
     "output_type": "execute_result"
    }
   ],
   "source": [
    "char_num('hello world! 123')"
   ]
  },
  {
   "cell_type": "code",
   "execution_count": 1,
   "id": "19fa22ad",
   "metadata": {},
   "outputs": [],
   "source": [
    "def char_num2(w):\n",
    "    \n",
    "    l_digit=[]\n",
    "    l_char=[]\n",
    "    \n",
    "    for i in w:\n",
    "        if i.isdigit():\n",
    "            l_digit.append(i)\n",
    "        elif i.isalpha():\n",
    "            l_char.append(i)\n",
    "    Letters=print('Letters ', len(l_char))\n",
    "    Digits=print('Digits ',len(l_digit))\n",
    "    \n",
    "    return Letters,Digits"
   ]
  },
  {
   "cell_type": "code",
   "execution_count": 2,
   "id": "a55ce96f",
   "metadata": {},
   "outputs": [
    {
     "name": "stdout",
     "output_type": "stream",
     "text": [
      "Letters  10\n",
      "Digits  3\n"
     ]
    },
    {
     "data": {
      "text/plain": [
       "(None, None)"
      ]
     },
     "execution_count": 2,
     "metadata": {},
     "output_type": "execute_result"
    }
   ],
   "source": [
    "char_num2('hello world! 123')"
   ]
  },
  {
   "cell_type": "markdown",
   "id": "6bfe00f7",
   "metadata": {},
   "source": [
    "Question 6:\n",
    "A website requires the users to input username and password to register. Write a program to check the validity of password input by users.\n",
    "\n",
    "Following are the criteria for checking the password:\n",
    "\n",
    "1. At least 1 letter between [a-z]\n",
    "\n",
    "2. At least 1 number between [0-9]\n",
    "\n",
    "1. At least 1 letter between [A-Z]\n",
    "\n",
    "3. At least 1 character from [$#@]\n",
    "\n",
    "4. Minimum length of transaction password: 6\n",
    "\n",
    "5. Maximum length of transaction password: 12\n",
    "\n",
    "Your program should accept a sequence of comma separated passwords and will check them according to the above criteria. Passwords that match the criteria are to be printed, each separated by a comma.\n"
   ]
  },
  {
   "cell_type": "code",
   "execution_count": 12,
   "id": "f1da528e",
   "metadata": {},
   "outputs": [
    {
     "name": "stdout",
     "output_type": "stream",
     "text": [
      "ABd1234@1,a F1#,2w3E*,2We3345\n",
      "['ABd1234@1']\n"
     ]
    }
   ],
   "source": [
    "user_input = input()\n",
    "passwords = user_input.split(\",\")\n",
    "special_chars = [\"$\",\"#\",\"@\"]\n",
    "valid = []\n",
    "\n",
    "for x in passwords:\n",
    "    #check length\n",
    "    if(len(x) > 12 or len(x) < 6):\n",
    "        continue\n",
    "\n",
    "    #check if has both uppercase and lower\n",
    "    if (x.isupper() or x.islower()): \n",
    "        continue\n",
    "    \n",
    "    #check numbers\n",
    "    has_number = any(char.isdigit() for char in x)\n",
    "    if(not has_number):\n",
    "        continue\n",
    "    \n",
    "    #check if has special character\n",
    "    has_char = any(char in special_chars for char in x)\n",
    "    if(not has_char):\n",
    "        continue\n",
    "\n",
    "    #only reached if all checks are passed\n",
    "    valid.append(x)\n",
    "print(valid)"
   ]
  },
  {
   "cell_type": "code",
   "execution_count": null,
   "id": "8aa2f7bb",
   "metadata": {},
   "outputs": [],
   "source": [
    "range"
   ]
  }
 ],
 "metadata": {
  "kernelspec": {
   "display_name": "Python 3",
   "language": "python",
   "name": "python3"
  },
  "language_info": {
   "codemirror_mode": {
    "name": "ipython",
    "version": 3
   },
   "file_extension": ".py",
   "mimetype": "text/x-python",
   "name": "python",
   "nbconvert_exporter": "python",
   "pygments_lexer": "ipython3",
   "version": "3.8.8"
  }
 },
 "nbformat": 4,
 "nbformat_minor": 5
}
