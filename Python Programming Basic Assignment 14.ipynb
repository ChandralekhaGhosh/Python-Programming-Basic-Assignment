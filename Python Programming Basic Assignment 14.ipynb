{
 "cells": [
  {
   "cell_type": "markdown",
   "id": "0c0d9d26",
   "metadata": {},
   "source": [
    "#### Python Basic Programming Assignment 14"
   ]
  },
  {
   "cell_type": "markdown",
   "id": "e243a494",
   "metadata": {},
   "source": [
    "Question 1:\n",
    "\n",
    "Define a class with a generator which can iterate the numbers, which are divisible by 7, between a given range 0 and n.\n"
   ]
  },
  {
   "cell_type": "code",
   "execution_count": 16,
   "id": "3b204342",
   "metadata": {},
   "outputs": [
    {
     "name": "stdout",
     "output_type": "stream",
     "text": [
      "56\n",
      "[0, 7, 14, 21, 28, 35, 42, 49]\n",
      "55 False\n"
     ]
    }
   ],
   "source": [
    "n = int(input())\n",
    "divBy7 = [i for i in range(0, n) if (i % 7 == 0)]\n",
    "print(divBy7)\n",
    "\n",
    "def divChecker(n):\n",
    "    for i in range(n):\n",
    "        if i % 7 == 0:\n",
    "            value = True\n",
    "        else:\n",
    "            value = False\n",
    "    print(i, value)\n",
    "\n",
    "divChecker(n)"
   ]
  },
  {
   "cell_type": "code",
   "execution_count": 37,
   "id": "869d28a3",
   "metadata": {},
   "outputs": [],
   "source": [
    "def test():\n",
    "    n=int(input('enter a num'))\n",
    "    l=[]\n",
    "    for i in range(0,n):\n",
    "        if i%7==0:\n",
    "            l.append(i)\n",
    "    return l"
   ]
  },
  {
   "cell_type": "code",
   "execution_count": 38,
   "id": "a8cb19a1",
   "metadata": {},
   "outputs": [
    {
     "name": "stdout",
     "output_type": "stream",
     "text": [
      "enter a num100\n"
     ]
    },
    {
     "data": {
      "text/plain": [
       "[0, 7, 14, 21, 28, 35, 42, 49, 56, 63, 70, 77, 84, 91, 98]"
      ]
     },
     "execution_count": 38,
     "metadata": {},
     "output_type": "execute_result"
    }
   ],
   "source": [
    "test()"
   ]
  },
  {
   "cell_type": "code",
   "execution_count": 44,
   "id": "ff8470b9",
   "metadata": {},
   "outputs": [],
   "source": [
    "def testyield():\n",
    "    n=int(input('enter a num'))\n",
    "    l=[]\n",
    "    for i in range(0,n):\n",
    "        if i%7==0:\n",
    "            yield i\n",
    "            \n"
   ]
  },
  {
   "cell_type": "code",
   "execution_count": 46,
   "id": "216b277c",
   "metadata": {},
   "outputs": [
    {
     "data": {
      "text/plain": [
       "<generator object testyield at 0x000002B6AAADC5F0>"
      ]
     },
     "execution_count": 46,
     "metadata": {},
     "output_type": "execute_result"
    }
   ],
   "source": [
    "testyield()"
   ]
  },
  {
   "cell_type": "code",
   "execution_count": 48,
   "id": "01b095bd",
   "metadata": {},
   "outputs": [
    {
     "name": "stdout",
     "output_type": "stream",
     "text": [
      "enter a num35\n",
      "0\n",
      "7\n",
      "14\n",
      "21\n",
      "28\n"
     ]
    }
   ],
   "source": [
    "for i in testyield():\n",
    "    print(i)"
   ]
  },
  {
   "cell_type": "markdown",
   "id": "f2cde31f",
   "metadata": {},
   "source": [
    "Question 2:\n",
    "Write a program to compute the frequency of the words from the input. The output should output after sorting the key alphanumerically. \n"
   ]
  },
  {
   "cell_type": "code",
   "execution_count": 111,
   "id": "f790c7e6",
   "metadata": {},
   "outputs": [],
   "source": [
    "def frequency():\n",
    "    import collections\n",
    "    \n",
    "    s=input('Enter strings')\n",
    "    l=s.split()\n",
    "    l=sorted(l,key=str)\n",
    "    result=collections.Counter(l)\n",
    "    return dict(result)"
   ]
  },
  {
   "cell_type": "code",
   "execution_count": 112,
   "id": "8cca1c7c",
   "metadata": {},
   "outputs": [
    {
     "name": "stdout",
     "output_type": "stream",
     "text": [
      "Enter stringsNew to Python or choosing between Python 2 and Python 3? Read Python 2 or Python 3\n"
     ]
    },
    {
     "data": {
      "text/plain": [
       "{'2': 2,\n",
       " '3': 1,\n",
       " '3?': 1,\n",
       " 'New': 1,\n",
       " 'Python': 5,\n",
       " 'Read': 1,\n",
       " 'and': 1,\n",
       " 'between': 1,\n",
       " 'choosing': 1,\n",
       " 'or': 2,\n",
       " 'to': 1}"
      ]
     },
     "execution_count": 112,
     "metadata": {},
     "output_type": "execute_result"
    }
   ],
   "source": [
    "frequency()"
   ]
  },
  {
   "cell_type": "code",
   "execution_count": 70,
   "id": "8f214ba7",
   "metadata": {},
   "outputs": [
    {
     "name": "stdout",
     "output_type": "stream",
     "text": [
      "{'A': 3, 'B': 3, 'C': 1, 'D': 2}\n"
     ]
    },
    {
     "data": {
      "text/plain": [
       "{'A': 3, 'B': 3, 'C': 1, 'D': 2}"
      ]
     },
     "execution_count": 70,
     "metadata": {},
     "output_type": "execute_result"
    }
   ],
   "source": [
    "# importing the module\n",
    "import collections\n",
    "\n",
    "# initializing the list\n",
    "random_list = ['A', 'A', 'B', 'C', 'B', 'D', 'D', 'A', 'B']\n",
    "\n",
    "# using Counter to find frequency of elements\n",
    "frequency = collections.Counter(random_list)\n",
    "\n",
    "# printing the frequency\n",
    "print(dict(frequency))\n",
    "{'A': 3, 'B': 3, 'C': 1, 'D': 2}"
   ]
  },
  {
   "cell_type": "code",
   "execution_count": 71,
   "id": "230a9dc3",
   "metadata": {},
   "outputs": [
    {
     "data": {
      "text/plain": [
       "Counter({'A': 3, 'B': 3, 'C': 1, 'D': 2})"
      ]
     },
     "execution_count": 71,
     "metadata": {},
     "output_type": "execute_result"
    }
   ],
   "source": [
    "frequency"
   ]
  },
  {
   "cell_type": "markdown",
   "id": "5c41c944",
   "metadata": {},
   "source": [
    "Question 3:\n",
    "\n",
    "\n",
    "\n",
    "Define a class Person and its two child classes: Male and Female. All classes have a method \"getGender\" which can print \"Male\" for Male class and \"Female\" for Female class.\n"
   ]
  },
  {
   "cell_type": "code",
   "execution_count": 127,
   "id": "3b95fb9e",
   "metadata": {},
   "outputs": [],
   "source": [
    "class Person:\n",
    "    def __init__(self,gender):\n",
    "        self.gender=gender\n",
    "        \n",
    "    \n",
    "    def getGender(self):\n",
    "        if self.gender.lower()=='female':\n",
    "            print('Female')\n",
    "        else:\n",
    "            print('Male')"
   ]
  },
  {
   "cell_type": "code",
   "execution_count": 133,
   "id": "470ab6af",
   "metadata": {},
   "outputs": [
    {
     "name": "stdout",
     "output_type": "stream",
     "text": [
      "Female\n"
     ]
    }
   ],
   "source": [
    "Radha=Person('FEMALE')\n",
    "Radha.getGender()"
   ]
  },
  {
   "cell_type": "markdown",
   "id": "1c5ed35a",
   "metadata": {},
   "source": [
    "Question 4:\n",
    "Please write a program to generate all sentences where subject is in [\"I\", \"You\"] and verb is in [\"Play\", \"Love\"] and the object is in [\"Hockey\",\"Football\"].\n"
   ]
  },
  {
   "cell_type": "code",
   "execution_count": 163,
   "id": "d700e341",
   "metadata": {},
   "outputs": [
    {
     "name": "stdout",
     "output_type": "stream",
     "text": [
      "I Play Hockey\n",
      "I Play Football\n",
      "I Love Hockey\n",
      "I Love Football\n",
      "You Play Hockey\n",
      "You Play Football\n",
      "You Love Hockey\n",
      "You Love Football\n"
     ]
    }
   ],
   "source": [
    "subjects=['I','You']\n",
    "verbs=['Play','Love']\n",
    "objects=['Hockey','Football']\n",
    "\n",
    "for i in range (len(subjects)):\n",
    "    for j in range (len (verbs)):\n",
    "        for k in range (len (objects)):\n",
    "            print('{} ' '{} ' '{}'.format(subjects[i],verbs[j],objects[k]))\n",
    "            \n",
    "\n"
   ]
  },
  {
   "cell_type": "code",
   "execution_count": 161,
   "id": "d99e0b0d",
   "metadata": {},
   "outputs": [
    {
     "name": "stdout",
     "output_type": "stream",
     "text": [
      "I Play Hockey\n",
      "I Play Football\n",
      "I Love Hockey\n",
      "I Love Football\n",
      "You Play Hockey\n",
      "You Play Football\n",
      "You Love Hockey\n",
      "You Love Football\n"
     ]
    }
   ],
   "source": [
    "subjects=['I','You']\n",
    "verbs=['Play','Love']\n",
    "objects=['Hockey','Football']\n",
    "\n",
    "for i in subjects:\n",
    "    for j in verbs:\n",
    "        for k in objects:\n",
    "            print('{} ' '{} ' '{}'.format(i,j,k))\n",
    "            \n",
    "\n",
    "            "
   ]
  },
  {
   "cell_type": "markdown",
   "id": "1d0cb48d",
   "metadata": {},
   "source": [
    "Question 5:\n",
    "Please write a program to compress and decompress the string \"hello world!hello world!hello world!hello world!\".\n"
   ]
  },
  {
   "cell_type": "code",
   "execution_count": 167,
   "id": "4e0239c9",
   "metadata": {},
   "outputs": [
    {
     "name": "stdout",
     "output_type": "stream",
     "text": [
      "b'x\\x9c\\xcbH\\xcd\\xc9\\xc9W(\\xcf/\\xcaIQ\\xcc \\x82\\r\\x00\\xbd[\\x11\\xf5'\n",
      "b'hello world!hello world!hello world!hello world!'\n"
     ]
    }
   ],
   "source": [
    "import zlib\n",
    "\n",
    "s = 'hello world!hello world!hello world!hello world!'\n",
    "# In Python 3 zlib.compress() accepts only DataType <bytes>\n",
    "y = bytes(s, 'utf-8')\n",
    "x = zlib.compress(y)\n",
    "print(x)\n",
    "print(zlib.decompress(x))\n"
   ]
  },
  {
   "cell_type": "markdown",
   "id": "0b357418",
   "metadata": {},
   "source": [
    "Question 6:\n",
    "Please write a binary search function which searches an item in a sorted list. The function should return the index of element to be searched in the list.\n"
   ]
  },
  {
   "cell_type": "code",
   "execution_count": null,
   "id": "44a80a0b",
   "metadata": {},
   "outputs": [],
   "source": []
  }
 ],
 "metadata": {
  "kernelspec": {
   "display_name": "Python 3",
   "language": "python",
   "name": "python3"
  },
  "language_info": {
   "codemirror_mode": {
    "name": "ipython",
    "version": 3
   },
   "file_extension": ".py",
   "mimetype": "text/x-python",
   "name": "python",
   "nbconvert_exporter": "python",
   "pygments_lexer": "ipython3",
   "version": "3.8.8"
  }
 },
 "nbformat": 4,
 "nbformat_minor": 5
}
