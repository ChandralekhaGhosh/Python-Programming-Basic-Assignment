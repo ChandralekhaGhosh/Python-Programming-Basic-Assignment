{
 "cells": [
  {
   "cell_type": "markdown",
   "id": "a1940723",
   "metadata": {},
   "source": [
    "#### Question1\n",
    "\n",
    "Write a function that stutters a word as if someone is struggling to read it. The first two letters are repeated twice with an ellipsis ... and space after each, and then the word is pronounced with a question mark ?."
   ]
  },
  {
   "cell_type": "code",
   "execution_count": null,
   "id": "4f42181e",
   "metadata": {},
   "outputs": [],
   "source": [
    "def stutter(w):\n",
    "    word=w.lower()\n",
    "    return (word[0:2]+'...'+ word[0:2]+'...'+word+'?')"
   ]
  },
  {
   "cell_type": "code",
   "execution_count": 21,
   "id": "8e880ebd",
   "metadata": {},
   "outputs": [
    {
     "data": {
      "text/plain": [
       "'ov...ov...overjoyed?'"
      ]
     },
     "execution_count": 21,
     "metadata": {},
     "output_type": "execute_result"
    }
   ],
   "source": [
    "stutter('overJoYed')"
   ]
  },
  {
   "cell_type": "markdown",
   "id": "5fb2d201",
   "metadata": {},
   "source": [
    "#### Question 2\n",
    "\n",
    "Create a function that takes an angle in radians and returns the corresponding angle in degrees rounded to one decimal place."
   ]
  },
  {
   "cell_type": "code",
   "execution_count": 75,
   "id": "1cbf84dc",
   "metadata": {},
   "outputs": [],
   "source": [
    "def radians_to_degrees(angle_rad):\n",
    "    angle_rad_degrees=angle_rad*57.2958\n",
    "        \n",
    "    return format(angle_rad_degrees,'.1f')\n"
   ]
  },
  {
   "cell_type": "code",
   "execution_count": 78,
   "id": "0661f199",
   "metadata": {},
   "outputs": [
    {
     "data": {
      "text/plain": [
       "'2864.8'"
      ]
     },
     "execution_count": 78,
     "metadata": {},
     "output_type": "execute_result"
    }
   ],
   "source": [
    "radians_to_degrees(50)"
   ]
  },
  {
   "cell_type": "markdown",
   "id": "90f9e656",
   "metadata": {},
   "source": [
    "#### Question 3\n",
    "\n",
    "In this challenge, establish if a given integer num is a Curzon number. If 1 plus 2 elevated to num is exactly divisible by 1 plus 2 multiplied by num, then num is a Curzon number.\n",
    "Given a non-negative integer num, implement a function that returns True if num is a Curzon number, or False otherwise.\n"
   ]
  },
  {
   "cell_type": "code",
   "execution_count": 81,
   "id": "25def523",
   "metadata": {},
   "outputs": [],
   "source": [
    "def is_curzon(n):\n",
    "    if (2**n + 1)%(2*n+1)==0:\n",
    "        return True\n",
    "    else:\n",
    "        return False\n",
    "    \n",
    "    "
   ]
  },
  {
   "cell_type": "code",
   "execution_count": 84,
   "id": "15b79dc2",
   "metadata": {},
   "outputs": [
    {
     "data": {
      "text/plain": [
       "True"
      ]
     },
     "execution_count": 84,
     "metadata": {},
     "output_type": "execute_result"
    }
   ],
   "source": [
    "is_curzon(14)"
   ]
  },
  {
   "cell_type": "markdown",
   "id": "aa1982c2",
   "metadata": {},
   "source": [
    "#### Question 4\n",
    "\n",
    "Given the side length x find the area of a hexagon"
   ]
  },
  {
   "cell_type": "code",
   "execution_count": 102,
   "id": "50fc26c5",
   "metadata": {},
   "outputs": [],
   "source": [
    "import math\n",
    "def area_of_hexagon(x):\n",
    "    A=(3*math.sqrt(3)*x*x)/2\n",
    "    return format(A,'.1f')"
   ]
  },
  {
   "cell_type": "code",
   "execution_count": 103,
   "id": "b712a0f3",
   "metadata": {},
   "outputs": [
    {
     "data": {
      "text/plain": [
       "'23.4'"
      ]
     },
     "execution_count": 103,
     "metadata": {},
     "output_type": "execute_result"
    }
   ],
   "source": [
    "area_of_hexagon(3)"
   ]
  },
  {
   "cell_type": "code",
   "execution_count": null,
   "id": "4c091484",
   "metadata": {},
   "outputs": [],
   "source": []
  }
 ],
 "metadata": {
  "kernelspec": {
   "display_name": "Python 3",
   "language": "python",
   "name": "python3"
  },
  "language_info": {
   "codemirror_mode": {
    "name": "ipython",
    "version": 3
   },
   "file_extension": ".py",
   "mimetype": "text/x-python",
   "name": "python",
   "nbconvert_exporter": "python",
   "pygments_lexer": "ipython3",
   "version": "3.8.8"
  }
 },
 "nbformat": 4,
 "nbformat_minor": 5
}
