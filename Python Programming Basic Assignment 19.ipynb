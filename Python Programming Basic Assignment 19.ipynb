{
 "cells": [
  {
   "cell_type": "markdown",
   "id": "094c1374",
   "metadata": {},
   "source": [
    "#### Python Programming Basic Assignment 19"
   ]
  },
  {
   "cell_type": "markdown",
   "id": "3303be7d",
   "metadata": {},
   "source": [
    "Question1\n",
    "Create a function that takes a string and returns a string in which each character is repeated once.\n"
   ]
  },
  {
   "cell_type": "code",
   "execution_count": 18,
   "id": "7a4cdb17",
   "metadata": {},
   "outputs": [],
   "source": [
    "def double_char(s):\n",
    "    try:\n",
    "        x=''\n",
    "        if type(s)==str:\n",
    "            for i in s:\n",
    "                x=x+i*2\n",
    "            return x\n",
    "        else:\n",
    "            print('Input can only be stirng')\n",
    "    except:\n",
    "        print('Something else went wrong')\n",
    "            "
   ]
  },
  {
   "cell_type": "code",
   "execution_count": 19,
   "id": "01dd2319",
   "metadata": {},
   "outputs": [
    {
     "name": "stdout",
     "output_type": "stream",
     "text": [
      "Input can only be stirng\n"
     ]
    }
   ],
   "source": [
    "double_char(1234)"
   ]
  },
  {
   "cell_type": "markdown",
   "id": "58341bd6",
   "metadata": {},
   "source": [
    "Question2\n",
    "Create a function that reverses a boolean value and returns the string \"boolean expected\" if another variable type is given.\n"
   ]
  },
  {
   "cell_type": "code",
   "execution_count": 31,
   "id": "2542f3bf",
   "metadata": {},
   "outputs": [],
   "source": [
    "def reverse(b):\n",
    "    try:\n",
    "        if type(b)==bool:\n",
    "            if b==True:\n",
    "                res=False\n",
    "            else:\n",
    "                res=True\n",
    "        else:\n",
    "            res='boolean expected'\n",
    "        return res\n",
    "    except Exception as e:\n",
    "        print(e)"
   ]
  },
  {
   "cell_type": "code",
   "execution_count": 34,
   "id": "25770ac7",
   "metadata": {},
   "outputs": [
    {
     "data": {
      "text/plain": [
       "'boolean expected'"
      ]
     },
     "execution_count": 34,
     "metadata": {},
     "output_type": "execute_result"
    }
   ],
   "source": [
    "reverse(None)"
   ]
  },
  {
   "cell_type": "markdown",
   "id": "e5f9089e",
   "metadata": {},
   "source": [
    "Question3\n",
    "Create a function that returns the thickness (in meters) of a piece of paper after folding it n number of times. The paper starts off with a thickness of 0.5mm.\n"
   ]
  },
  {
   "cell_type": "code",
   "execution_count": 62,
   "id": "69c50c79",
   "metadata": {},
   "outputs": [],
   "source": [
    "def fn(a):\n",
    "    ''' Where a is the number of folds. With each fold you have \n",
    "       to multiply the thickness of the current thickness by 2'''\n",
    "    \n",
    "    res = 0.5\n",
    "    for i in range(a):\n",
    "        res =res*2\n",
    "        print(res)\n",
    "    # return res for mm\n",
    "    return res / 1000 # for meters"
   ]
  },
  {
   "cell_type": "code",
   "execution_count": 63,
   "id": "7b787fb1",
   "metadata": {},
   "outputs": [
    {
     "name": "stdout",
     "output_type": "stream",
     "text": [
      "1.0\n",
      "2.0\n",
      "4.0\n",
      "8.0\n",
      "16.0\n",
      "32.0\n",
      "64.0\n",
      "128.0\n",
      "256.0\n",
      "512.0\n",
      "1024.0\n",
      "2048.0\n",
      "4096.0\n",
      "8192.0\n",
      "16384.0\n",
      "32768.0\n",
      "65536.0\n",
      "131072.0\n",
      "262144.0\n",
      "524288.0\n",
      "1048576.0\n"
     ]
    },
    {
     "data": {
      "text/plain": [
       "1048.576"
      ]
     },
     "execution_count": 63,
     "metadata": {},
     "output_type": "execute_result"
    }
   ],
   "source": [
    "fn(21)"
   ]
  },
  {
   "cell_type": "markdown",
   "id": "e12df36b",
   "metadata": {},
   "source": [
    "Question4\n",
    "Create a function that takes a single string as argument and returns an ordered list containing the indices of all capital letters in the string.\n"
   ]
  },
  {
   "cell_type": "code",
   "execution_count": 120,
   "id": "e9adc12b",
   "metadata": {},
   "outputs": [],
   "source": [
    "def index_of_caps(s):    \n",
    "    l=[]\n",
    "    for i in range(len(s)):\n",
    "        if s[i].isupper():\n",
    "            l.append(i)\n",
    "    return l"
   ]
  },
  {
   "cell_type": "code",
   "execution_count": 125,
   "id": "1d68bebb",
   "metadata": {},
   "outputs": [
    {
     "data": {
      "text/plain": [
       "[1]"
      ]
     },
     "execution_count": 125,
     "metadata": {},
     "output_type": "execute_result"
    }
   ],
   "source": [
    "index_of_caps('sUn')"
   ]
  },
  {
   "cell_type": "markdown",
   "id": "59d9eef5",
   "metadata": {},
   "source": [
    "Question5\n",
    "Using list comprehensions, create a function that finds all even numbers from 1 to the given number.\n"
   ]
  },
  {
   "cell_type": "code",
   "execution_count": 7,
   "id": "809b1435",
   "metadata": {},
   "outputs": [],
   "source": [
    "def find_even_nums(n):\n",
    "    try:\n",
    "        l=[]\n",
    "        for i in range(1,n+1):\n",
    "            if i%2==0:\n",
    "                l.append(i)\n",
    "        return l\n",
    "    except Exception as e:\n",
    "        print(e)"
   ]
  },
  {
   "cell_type": "code",
   "execution_count": 9,
   "id": "63c0eb2e",
   "metadata": {},
   "outputs": [
    {
     "name": "stdout",
     "output_type": "stream",
     "text": [
      "can only concatenate str (not \"int\") to str\n"
     ]
    }
   ],
   "source": [
    "find_even_nums('2')"
   ]
  },
  {
   "cell_type": "code",
   "execution_count": null,
   "id": "cca7f1d3",
   "metadata": {},
   "outputs": [],
   "source": []
  }
 ],
 "metadata": {
  "kernelspec": {
   "display_name": "Python 3",
   "language": "python",
   "name": "python3"
  },
  "language_info": {
   "codemirror_mode": {
    "name": "ipython",
    "version": 3
   },
   "file_extension": ".py",
   "mimetype": "text/x-python",
   "name": "python",
   "nbconvert_exporter": "python",
   "pygments_lexer": "ipython3",
   "version": "3.8.8"
  }
 },
 "nbformat": 4,
 "nbformat_minor": 5
}
