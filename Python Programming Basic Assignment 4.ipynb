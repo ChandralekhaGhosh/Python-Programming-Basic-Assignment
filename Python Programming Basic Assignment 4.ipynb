{
 "cells": [
  {
   "cell_type": "markdown",
   "id": "0ecfb64a",
   "metadata": {},
   "source": [
    "#### Python Programming Basic Assignment 4"
   ]
  },
  {
   "cell_type": "markdown",
   "id": "fed91f0a",
   "metadata": {},
   "source": [
    "Write a Python Program to Find the Factorial of a Number?"
   ]
  },
  {
   "cell_type": "code",
   "execution_count": 1,
   "id": "7ace05ee",
   "metadata": {},
   "outputs": [],
   "source": [
    "def factorial():\n",
    "    num=int(input('Please enter an integer'))\n",
    "    factorial=1\n",
    "    if num==0:\n",
    "        print('Factorial of 0 is 1')\n",
    "    elif num<0:\n",
    "        print('Factorial does not exist for negative numbers')\n",
    "    else:\n",
    "        for i in range(1,num+1):\n",
    "            factorial=factorial*i\n",
    "    return factorial\n",
    "   "
   ]
  },
  {
   "cell_type": "code",
   "execution_count": 2,
   "id": "c9b2accb",
   "metadata": {},
   "outputs": [
    {
     "name": "stdout",
     "output_type": "stream",
     "text": [
      "Please enter an integer5\n"
     ]
    },
    {
     "data": {
      "text/plain": [
       "120"
      ]
     },
     "execution_count": 2,
     "metadata": {},
     "output_type": "execute_result"
    }
   ],
   "source": [
    "factorial()"
   ]
  },
  {
   "cell_type": "code",
   "execution_count": 1,
   "id": "7b46c208",
   "metadata": {},
   "outputs": [],
   "source": [
    "def factorial2():\n",
    "    while True:\n",
    "        try:\n",
    "            num=int(input('Please enter an integer'))\n",
    "            factorial=1\n",
    "            if num==0:\n",
    "                print('Factorial of 0 is 1')\n",
    "            elif num<0:\n",
    "                print('Factorial does not exist for negative numbers')\n",
    "            else:\n",
    "                for i in range(1,num+1):\n",
    "                    factorial=factorial*i\n",
    "                return factorial\n",
    "        except:\n",
    "            print('enter again')\n",
    " \n"
   ]
  },
  {
   "cell_type": "code",
   "execution_count": 2,
   "id": "b37a14b3",
   "metadata": {},
   "outputs": [
    {
     "name": "stdout",
     "output_type": "stream",
     "text": [
      "Please enter an integer7\n"
     ]
    },
    {
     "data": {
      "text/plain": [
       "5040"
      ]
     },
     "execution_count": 2,
     "metadata": {},
     "output_type": "execute_result"
    }
   ],
   "source": [
    " factorial2()"
   ]
  },
  {
   "cell_type": "code",
   "execution_count": 38,
   "id": "c543ed66",
   "metadata": {},
   "outputs": [
    {
     "name": "stdout",
     "output_type": "stream",
     "text": [
      "Enter a number: 7\n",
      "The factorial of 7 is 5040\n"
     ]
    }
   ],
   "source": [
    "# Python program to find the factorial of a number provided by the user.\n",
    "\n",
    "# change the value for a different result\n",
    "#num = 7\n",
    "\n",
    "# To take input from the user\n",
    "num = int(input(\"Enter a number: \"))\n",
    "\n",
    "factorial = 1\n",
    "\n",
    "# check if the number is negative, positive or zero\n",
    "if num < 0:\n",
    "   print(\"Sorry, factorial does not exist for negative numbers\")\n",
    "elif num == 0:\n",
    "   print(\"The factorial of 0 is 1\")\n",
    "else:\n",
    "   for i in range(1,num + 1):\n",
    "       factorial = factorial*i\n",
    "   print(\"The factorial of\",num,\"is\",factorial)"
   ]
  },
  {
   "cell_type": "markdown",
   "id": "167c6577",
   "metadata": {},
   "source": [
    "2.\tWrite a Python Program to Display the multiplication Table?"
   ]
  },
  {
   "cell_type": "code",
   "execution_count": 4,
   "id": "3c7ad122",
   "metadata": {},
   "outputs": [],
   "source": [
    "def multiplication_tab():\n",
    "    while True:\n",
    "        try:\n",
    "            num=int(input('Enter a number'))\n",
    "            for i in range(1,11):\n",
    "                print(i,'x',num, '=', i*num)\n",
    "            break\n",
    "        except:\n",
    "            print('Enter again')"
   ]
  },
  {
   "cell_type": "code",
   "execution_count": 6,
   "id": "70108e31",
   "metadata": {},
   "outputs": [
    {
     "name": "stdout",
     "output_type": "stream",
     "text": [
      "Enter a numberdfg\n",
      "Enter again\n",
      "Enter a number1\n",
      "1 x 1 = 1\n",
      "2 x 1 = 2\n",
      "3 x 1 = 3\n",
      "4 x 1 = 4\n",
      "5 x 1 = 5\n",
      "6 x 1 = 6\n",
      "7 x 1 = 7\n",
      "8 x 1 = 8\n",
      "9 x 1 = 9\n",
      "10 x 1 = 10\n"
     ]
    }
   ],
   "source": [
    "multiplication_tab()"
   ]
  },
  {
   "cell_type": "markdown",
   "id": "59541443",
   "metadata": {},
   "source": [
    "3.\tWrite a Python Program to Print the Fibonacci sequence?"
   ]
  },
  {
   "cell_type": "code",
   "execution_count": 59,
   "id": "a57b843d",
   "metadata": {},
   "outputs": [],
   "source": [
    "# Not Correct, plz help. Plz share a code which isunderstanable, the ones which are on internet are not understandable\n",
    "def Fibonacci(a):\n",
    "    l=[]\n",
    "    result=0\n",
    "    for i in range(0,a+1):\n",
    "        l.append(i)\n",
    "        print(l)\n",
    "    for i in range (0,len(l)-1):\n",
    "        print(l[i-1])\n",
    "    \n",
    "    "
   ]
  },
  {
   "cell_type": "code",
   "execution_count": 60,
   "id": "3c07c716",
   "metadata": {},
   "outputs": [
    {
     "name": "stdout",
     "output_type": "stream",
     "text": [
      "[0]\n",
      "[0, 1]\n",
      "[0, 1, 2]\n",
      "[0, 1, 2, 3]\n",
      "[0, 1, 2, 3, 4]\n",
      "[0, 1, 2, 3, 4, 5]\n",
      "[0, 1, 2, 3, 4, 5, 6]\n",
      "[0, 1, 2, 3, 4, 5, 6, 7]\n",
      "[0, 1, 2, 3, 4, 5, 6, 7, 8]\n",
      "8\n",
      "0\n",
      "1\n",
      "2\n",
      "3\n",
      "4\n",
      "5\n",
      "6\n"
     ]
    }
   ],
   "source": [
    "Fibonacci(8)"
   ]
  },
  {
   "cell_type": "markdown",
   "id": "015e66cd",
   "metadata": {},
   "source": [
    "4.\tWrite a Python Program to Check Armstrong Number?"
   ]
  },
  {
   "cell_type": "code",
   "execution_count": 2,
   "id": "aaeaf0bb",
   "metadata": {},
   "outputs": [
    {
     "name": "stdout",
     "output_type": "stream",
     "text": [
      "Enter a number: 100\n",
      "0\n",
      "0\n",
      "1\n"
     ]
    }
   ],
   "source": [
    "\n",
    "\n",
    "# take input from the user\n",
    "num = int(input(\"Enter a number: \"))\n",
    "\n",
    "# initialize sum\n",
    "summ = 0\n",
    "\n",
    "# find the sum of the cube of each digit\n",
    "temp = num\n",
    "while temp > 0:\n",
    "    digit = temp % 10\n",
    "    summ =summ+ digit ** 3\n",
    "    temp //= 10\n",
    "    print(summ)\n",
    "\n",
    "\n",
    "# display the result\n",
    "if num == summ:\n",
    "    print(num,\"is an Armstrong number\")\n",
    "else:\n",
    "    print(num,\"is not an Armstrong number\")"
   ]
  },
  {
   "cell_type": "code",
   "execution_count": 7,
   "id": "192c1eaf",
   "metadata": {},
   "outputs": [
    {
     "data": {
      "text/plain": [
       "54"
      ]
     },
     "execution_count": 7,
     "metadata": {},
     "output_type": "execute_result"
    }
   ],
   "source": [
    "541//10\n"
   ]
  },
  {
   "cell_type": "code",
   "execution_count": 8,
   "id": "193c5a27",
   "metadata": {},
   "outputs": [
    {
     "data": {
      "text/plain": [
       "4"
      ]
     },
     "execution_count": 8,
     "metadata": {},
     "output_type": "execute_result"
    }
   ],
   "source": [
    "54%10"
   ]
  },
  {
   "cell_type": "markdown",
   "id": "dc43f8c0",
   "metadata": {},
   "source": [
    "5.\tWrite a Python Program to Find Armstrong Number in an Interval?"
   ]
  },
  {
   "cell_type": "code",
   "execution_count": 12,
   "id": "39c77c1e",
   "metadata": {},
   "outputs": [
    {
     "name": "stdout",
     "output_type": "stream",
     "text": [
      "153\n",
      "370\n",
      "371\n",
      "407\n"
     ]
    }
   ],
   "source": [
    "# Program to check Armstrong numbers in a certain interval\n",
    "\n",
    "lower = 100\n",
    "upper = 2000\n",
    "\n",
    "for num in range(lower, upper + 1):\n",
    "\n",
    "   \n",
    "   # initialize sum\n",
    "    sum = 0\n",
    "\n",
    "    temp = num\n",
    "    while temp > 0:\n",
    "        digit = temp % 10\n",
    "        sum =sum+ digit ** 3\n",
    "        temp //= 10\n",
    "\n",
    "    if num == sum:\n",
    "        print(num)"
   ]
  },
  {
   "cell_type": "code",
   "execution_count": null,
   "id": "5070a2d2",
   "metadata": {},
   "outputs": [],
   "source": []
  }
 ],
 "metadata": {
  "kernelspec": {
   "display_name": "Python 3",
   "language": "python",
   "name": "python3"
  },
  "language_info": {
   "codemirror_mode": {
    "name": "ipython",
    "version": 3
   },
   "file_extension": ".py",
   "mimetype": "text/x-python",
   "name": "python",
   "nbconvert_exporter": "python",
   "pygments_lexer": "ipython3",
   "version": "3.8.8"
  }
 },
 "nbformat": 4,
 "nbformat_minor": 5
}
