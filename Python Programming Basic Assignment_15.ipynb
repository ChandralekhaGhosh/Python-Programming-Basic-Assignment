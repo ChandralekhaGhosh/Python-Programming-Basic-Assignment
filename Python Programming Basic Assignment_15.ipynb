{
 "cells": [
  {
   "cell_type": "code",
   "execution_count": null,
   "id": "8fed0d2b",
   "metadata": {},
   "outputs": [],
   "source": []
  },
  {
   "cell_type": "code",
   "execution_count": 77,
   "id": "65b5157b",
   "metadata": {},
   "outputs": [
    {
     "name": "stdout",
     "output_type": "stream",
     "text": [
      "any number200\n",
      "[0, 35, 70, 105, 140, 175]\n"
     ]
    }
   ],
   "source": [
    "\n",
    "\n",
    "n=input('any number')\n",
    "n=int(n)\n",
    "l=[]\n",
    "for i in range(n):\n",
    "    if i%5==0 and i%7==0:\n",
    "        l.append(i)\n",
    "print(l)                \n",
    "                "
   ]
  },
  {
   "cell_type": "code",
   "execution_count": 59,
   "id": "f051036b",
   "metadata": {},
   "outputs": [
    {
     "data": {
      "text/plain": [
       "[0, 35]"
      ]
     },
     "execution_count": 59,
     "metadata": {},
     "output_type": "execute_result"
    }
   ],
   "source": [
    "divisable(36)"
   ]
  },
  {
   "cell_type": "markdown",
   "id": "a5ba9a73",
   "metadata": {},
   "source": [
    "#### Question 1:\n",
    "\n",
    "Please write a program using generator to print the numbers which can be divisible by 5 and 7 between 0 and n in comma separated form while n is input by console.\n"
   ]
  },
  {
   "cell_type": "code",
   "execution_count": 166,
   "id": "f02e3845",
   "metadata": {},
   "outputs": [],
   "source": [
    "\n",
    "def divisor_5_7(n):\n",
    "    for i in range(n):\n",
    "        if i%5==0 and i%7==0:\n",
    "            yield i\n",
    "        \n",
    "    \n",
    "   \n",
    "        "
   ]
  },
  {
   "cell_type": "code",
   "execution_count": 167,
   "id": "7eada0ee",
   "metadata": {},
   "outputs": [
    {
     "data": {
      "text/plain": [
       "<generator object divisor_5_7 at 0x0000016D00FBFF20>"
      ]
     },
     "execution_count": 167,
     "metadata": {},
     "output_type": "execute_result"
    }
   ],
   "source": [
    "divisor_5_7(100)"
   ]
  },
  {
   "cell_type": "code",
   "execution_count": 168,
   "id": "afd78a49",
   "metadata": {},
   "outputs": [
    {
     "name": "stdout",
     "output_type": "stream",
     "text": [
      "0\n",
      "35\n",
      "70\n"
     ]
    }
   ],
   "source": [
    "\n",
    "for i in divisor_5_7(100):\n",
    "    s='{:,}'.format(i)\n",
    "    print(s)   \n",
    "         "
   ]
  },
  {
   "cell_type": "code",
   "execution_count": 169,
   "id": "1671c813",
   "metadata": {},
   "outputs": [
    {
     "name": "stdout",
     "output_type": "stream",
     "text": [
      "0 35 70 "
     ]
    }
   ],
   "source": [
    "for i in divisor_5_7(100):\n",
    "    print(i,sep=',',end=' ')   \n",
    "         "
   ]
  },
  {
   "cell_type": "code",
   "execution_count": 4,
   "id": "87eae9f2",
   "metadata": {},
   "outputs": [
    {
     "name": "stdout",
     "output_type": "stream",
     "text": [
      "100\n",
      "<generator object divisor_5_7 at 0x0000022EE12917B0>\n"
     ]
    }
   ],
   "source": [
    "def divisor_5_7(n):\n",
    "    for i in range(n):\n",
    "        if i%5==0 and i%7==0:\n",
    "            yield i\n",
    "            \n",
    "n=int(input())\n",
    "result=divisor_5_7(n)\n",
    "print(result)"
   ]
  },
  {
   "cell_type": "code",
   "execution_count": 7,
   "id": "c46eeb57",
   "metadata": {},
   "outputs": [
    {
     "name": "stdout",
     "output_type": "stream",
     "text": [
      "0\n",
      "35\n",
      "70\n"
     ]
    }
   ],
   "source": [
    "for i in divisor_5_7(n):\n",
    "    print('{:,}'.format(i))"
   ]
  },
  {
   "cell_type": "markdown",
   "id": "3331b888",
   "metadata": {},
   "source": [
    "#### Question 2:\n",
    "\n",
    "Please write a program using generator to print the even numbers between 0 and n in comma separated form while n is input by console.\n"
   ]
  },
  {
   "cell_type": "code",
   "execution_count": 5,
   "id": "7c858a37",
   "metadata": {},
   "outputs": [
    {
     "name": "stdout",
     "output_type": "stream",
     "text": [
      "10\n",
      "<generator object even at 0x000002266297C9E0>\n"
     ]
    }
   ],
   "source": [
    "def even(n):\n",
    "    for i in range(n+1):\n",
    "        if i%2==0:\n",
    "            yield i\n",
    "            \n",
    "n=int(input())\n",
    "result=even(n)\n",
    "print(result)"
   ]
  },
  {
   "cell_type": "code",
   "execution_count": 6,
   "id": "1d86966b",
   "metadata": {},
   "outputs": [
    {
     "name": "stdout",
     "output_type": "stream",
     "text": [
      "0 2 4 6 8 10 "
     ]
    }
   ],
   "source": [
    "for i in even(n):\n",
    "    \n",
    "    print(i,sep=\",\",end=\" \")"
   ]
  },
  {
   "cell_type": "code",
   "execution_count": 374,
   "id": "71543a23",
   "metadata": {},
   "outputs": [
    {
     "name": "stdout",
     "output_type": "stream",
     "text": [
      "100,000,000\n"
     ]
    }
   ],
   "source": [
    "def my_value(number):\n",
    "    return (\"{:,}\".format(number))\n",
    "print(my_value(100000000))"
   ]
  },
  {
   "cell_type": "markdown",
   "id": "dbc98761",
   "metadata": {},
   "source": [
    "#### Question 3:\n",
    "\n",
    "The Fibonacci Sequence is computed based on the following formula:\n",
    "f(n)=0 if n=0\n",
    "f(n)=1 if n=1\n",
    "f(n)=f(n-1)+f(n-2) if n>1\n",
    "Please write a program using list comprehension to print the Fibonacci Sequence in comma separated form with a given n input by console.\n"
   ]
  },
  {
   "cell_type": "code",
   "execution_count": 343,
   "id": "c663e841",
   "metadata": {},
   "outputs": [
    {
     "name": "stdout",
     "output_type": "stream",
     "text": [
      "7\n",
      "0,1,1,2,3,5,8,13\n"
     ]
    }
   ],
   "source": [
    "def f(n):\n",
    "    if n == 0: return 0\n",
    "    elif n == 1: return 1\n",
    "    else: return f(n-1)+f(n-2)\n",
    "\n",
    "n=int(input())\n",
    "values = [str(f(x)) for x in range(0, n+1)]\n",
    "print(\",\".join(values))\n"
   ]
  },
  {
   "cell_type": "code",
   "execution_count": 1,
   "id": "7237daf3",
   "metadata": {},
   "outputs": [
    {
     "name": "stdout",
     "output_type": "stream",
     "text": [
      "7\n",
      "0,1,1,2,3,5,8,13,"
     ]
    }
   ],
   "source": [
    "def f(n):\n",
    "    if n == 0: return 0\n",
    "    elif n == 1: return 1\n",
    "    else: return f(n-1)+f(n-2)\n",
    "\n",
    "n=int(input())\n",
    "for x in range(0,n+1):\n",
    "    values=f(x)\n",
    "    print(values,end=\",\")\n",
    "    \n"
   ]
  },
  {
   "cell_type": "code",
   "execution_count": null,
   "id": "7763d6e6",
   "metadata": {},
   "outputs": [],
   "source": [
    "f(8)"
   ]
  },
  {
   "cell_type": "markdown",
   "id": "5f5299a6",
   "metadata": {},
   "source": [
    "#### Question 4:\n",
    "\n",
    "Assuming that we have some email addresses in the \"username@companyname.com\" format, please write program to print the user name of a given email address. Both user names and company names are composed of letters only.\n"
   ]
  },
  {
   "cell_type": "code",
   "execution_count": 18,
   "id": "d647ce07",
   "metadata": {},
   "outputs": [
    {
     "name": "stdout",
     "output_type": "stream",
     "text": [
      "email id herechandralekha.ghosh@omnicommediagroup.com\n",
      "chandralekha.ghosh\n"
     ]
    }
   ],
   "source": [
    "def email_name(email):\n",
    "    \n",
    "    name=email.split('@')\n",
    "    return name[0]\n",
    "\n",
    "email=input('email id here')    \n",
    "result=email_name(email)\n",
    "print(result)"
   ]
  },
  {
   "cell_type": "code",
   "execution_count": null,
   "id": "a785e095",
   "metadata": {},
   "outputs": [],
   "source": []
  },
  {
   "cell_type": "code",
   "execution_count": null,
   "id": "95151277",
   "metadata": {},
   "outputs": [],
   "source": [
    "class shape:\n",
    "    def __init__(self)\n",
    "    \n",
    "    def area(self):\n",
    "        return 0\n",
    "    \n",
    "class square:\n",
    "    def __init__(self,l):\n",
    "        square.length=l\n",
    "        \n",
    "        def area(self):\n",
    "            return square.length*\n",
    "        "
   ]
  }
 ],
 "metadata": {
  "kernelspec": {
   "display_name": "Python 3",
   "language": "python",
   "name": "python3"
  },
  "language_info": {
   "codemirror_mode": {
    "name": "ipython",
    "version": 3
   },
   "file_extension": ".py",
   "mimetype": "text/x-python",
   "name": "python",
   "nbconvert_exporter": "python",
   "pygments_lexer": "ipython3",
   "version": "3.8.8"
  }
 },
 "nbformat": 4,
 "nbformat_minor": 5
}
