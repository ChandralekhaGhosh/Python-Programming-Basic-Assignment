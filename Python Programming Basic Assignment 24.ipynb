{
 "cells": [
  {
   "cell_type": "markdown",
   "id": "c898a606",
   "metadata": {},
   "source": [
    "Question1\n",
    "Create a function that takes an integer and returns a list from 1 to the given number, where:\n",
    "1. If the number can be divided evenly by 4, amplify it by 10 (i.e. return 10 times the\n",
    "number).\n",
    "2. If the number cannot be divided evenly by 4, simply return the number."
   ]
  },
  {
   "cell_type": "code",
   "execution_count": 11,
   "id": "6549621a",
   "metadata": {},
   "outputs": [],
   "source": [
    "def amplify(n):\n",
    "    l1=[]\n",
    "    if n>=1:\n",
    "        for i in range(1,n+1):\n",
    "            if i%4==0:\n",
    "                l1.append(i*10)\n",
    "            if i%4 !=0:\n",
    "                l1.append(i)\n",
    "    return l1"
   ]
  },
  {
   "cell_type": "code",
   "execution_count": 13,
   "id": "6e02bbda",
   "metadata": {},
   "outputs": [
    {
     "data": {
      "text/plain": [
       "[1, 2, 3, 40]"
      ]
     },
     "execution_count": 13,
     "metadata": {},
     "output_type": "execute_result"
    }
   ],
   "source": [
    "amplify(4)"
   ]
  },
  {
   "cell_type": "markdown",
   "id": "dd1fee1c",
   "metadata": {},
   "source": [
    "Question2\n",
    "Create a function that takes a list of numbers and return the number that's unique.\n"
   ]
  },
  {
   "cell_type": "code",
   "execution_count": 14,
   "id": "99dce1bb",
   "metadata": {},
   "outputs": [],
   "source": [
    "def unique(n):\n",
    "    p=0\n",
    "    if type(n)==list:\n",
    "        for i in n:\n",
    "            if n.count(i)==1:\n",
    "                p=p+i\n",
    "    return p"
   ]
  },
  {
   "cell_type": "code",
   "execution_count": 17,
   "id": "15bc113c",
   "metadata": {},
   "outputs": [
    {
     "data": {
      "text/plain": [
       "0"
      ]
     },
     "execution_count": 17,
     "metadata": {},
     "output_type": "execute_result"
    }
   ],
   "source": [
    "unique([0, 1, 1, 1, 1, 1, 1, 1])"
   ]
  },
  {
   "cell_type": "markdown",
   "id": "369811a0",
   "metadata": {},
   "source": [
    "Question3\n",
    "Your task is to create a Circle constructor that creates a circle with a radius provided by an argument. The circles constructed must have two getters getArea() (PIr^2) and getPerimeter() (2PI*r) which give both respective areas and perimeter (circumference).\n"
   ]
  },
  {
   "cell_type": "code",
   "execution_count": 14,
   "id": "f83b4a20",
   "metadata": {},
   "outputs": [],
   "source": [
    "class Circle:\n",
    "    def __init__(self,r):\n",
    "        self.r=r\n",
    "    def getArea(self):\n",
    "        Area=3.14*(self.r**2)\n",
    "        return round(Area,2)\n",
    "    def getPerimeter(self):\n",
    "        Perimeter=(2)*(3.14)*(self.r)\n",
    "        return round(Perimeter)\n",
    "        \n",
    "        "
   ]
  },
  {
   "cell_type": "code",
   "execution_count": 15,
   "id": "a5f08e20",
   "metadata": {},
   "outputs": [
    {
     "data": {
      "text/plain": [
       "379.94"
      ]
     },
     "execution_count": 15,
     "metadata": {},
     "output_type": "execute_result"
    }
   ],
   "source": [
    "circy=Circle(11)\n",
    "circy.getArea()"
   ]
  },
  {
   "cell_type": "code",
   "execution_count": 16,
   "id": "1d352518",
   "metadata": {},
   "outputs": [
    {
     "data": {
      "text/plain": [
       "28"
      ]
     },
     "execution_count": 16,
     "metadata": {},
     "output_type": "execute_result"
    }
   ],
   "source": [
    "circy=Circle(4.44)\n",
    "circy.getPerimeter()"
   ]
  },
  {
   "cell_type": "markdown",
   "id": "5f032c33",
   "metadata": {},
   "source": [
    "Question4\n",
    "Create a function that takes a list of strings and return a list, sorted from shortest to longest.\n"
   ]
  },
  {
   "cell_type": "code",
   "execution_count": 65,
   "id": "c9956a7a",
   "metadata": {},
   "outputs": [],
   "source": [
    "def sort_by_length(l):\n",
    "   \n",
    "    if type(l)==list:\n",
    "        l1=sorted(l,key=len)\n",
    "    return l1"
   ]
  },
  {
   "cell_type": "code",
   "execution_count": 68,
   "id": "0415aa34",
   "metadata": {},
   "outputs": [
    {
     "data": {
      "text/plain": [
       "['Jung', 'Turing', 'Einstein']"
      ]
     },
     "execution_count": 68,
     "metadata": {},
     "output_type": "execute_result"
    }
   ],
   "source": [
    "sort_by_length([\"Turing\", \"Einstein\", \"Jung\"])"
   ]
  },
  {
   "cell_type": "markdown",
   "id": "ffb09392",
   "metadata": {},
   "source": [
    "Question5\n",
    "Create a function that validates whether three given integers form a Pythagorean triplet. The sum of the squares of the two smallest integers must equal the square of the largest number to be validated.\n",
    "\n"
   ]
  },
  {
   "cell_type": "code",
   "execution_count": 87,
   "id": "c26d5d4a",
   "metadata": {},
   "outputs": [],
   "source": [
    "def is_triplet(n1,n2,n3):\n",
    "    l=[n1,n2,n3]\n",
    "    l1=sorted(l)\n",
    "    for i in range(len(l1)):\n",
    "        if ((l1[0]) ** 2)+((l1[1])**2) == (l[2]) **2:\n",
    "            return True\n",
    "        else:\n",
    "            return False\n",
    "        \n",
    "    "
   ]
  },
  {
   "cell_type": "code",
   "execution_count": 90,
   "id": "810ed036",
   "metadata": {},
   "outputs": [
    {
     "data": {
      "text/plain": [
       "False"
      ]
     },
     "execution_count": 90,
     "metadata": {},
     "output_type": "execute_result"
    }
   ],
   "source": [
    "is_triplet(1, 2, 3)"
   ]
  },
  {
   "cell_type": "code",
   "execution_count": null,
   "id": "6ea2b06e",
   "metadata": {},
   "outputs": [],
   "source": []
  }
 ],
 "metadata": {
  "kernelspec": {
   "display_name": "Python 3",
   "language": "python",
   "name": "python3"
  },
  "language_info": {
   "codemirror_mode": {
    "name": "ipython",
    "version": 3
   },
   "file_extension": ".py",
   "mimetype": "text/x-python",
   "name": "python",
   "nbconvert_exporter": "python",
   "pygments_lexer": "ipython3",
   "version": "3.8.8"
  }
 },
 "nbformat": 4,
 "nbformat_minor": 5
}
