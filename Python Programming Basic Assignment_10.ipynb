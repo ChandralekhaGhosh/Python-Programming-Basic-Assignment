{
 "cells": [
  {
   "cell_type": "markdown",
   "id": "678634e6",
   "metadata": {},
   "source": [
    "### Python Programming Basic Assignment"
   ]
  },
  {
   "cell_type": "markdown",
   "id": "effbcf86",
   "metadata": {},
   "source": [
    "1.\tWrite a Python program to find sum of elements in list?"
   ]
  },
  {
   "cell_type": "code",
   "execution_count": null,
   "id": "ecbc0081",
   "metadata": {},
   "outputs": [],
   "source": [
    "#This will work upto two levels of nested list \n",
    "\n",
    "def sum_list(n):\n",
    "    result=0\n",
    "    if type(n)==list:\n",
    "        for i in n:\n",
    "            if type(i)==list:\n",
    "                for j in i:\n",
    "                    if type(j)==list or type(j)==int or type(j)==float:\n",
    "                        result=result+j\n",
    "                    else:\n",
    "                         print('Elements in the list are non addable')\n",
    "                        \n",
    "            elif type(i)==int:\n",
    "                result=result+i\n",
    "            else:\n",
    "                print('Elements in the list are non int, so non addable')\n",
    "    else:\n",
    "        print('This program is only valid for list and this not a list')\n",
    "    return result"
   ]
  },
  {
   "cell_type": "code",
   "execution_count": 55,
   "id": "fae541b3",
   "metadata": {},
   "outputs": [
    {
     "name": "stdout",
     "output_type": "stream",
     "text": [
      "Elements in the list are non int, so non addable\n"
     ]
    },
    {
     "data": {
      "text/plain": [
       "12"
      ]
     },
     "execution_count": 55,
     "metadata": {},
     "output_type": "execute_result"
    }
   ],
   "source": [
    "sum_list([2,2,3,[2,3,'sudh']])"
   ]
  },
  {
   "cell_type": "markdown",
   "id": "5b9ca95d",
   "metadata": {},
   "source": [
    "2.\tWrite a Python program to  Multiply all numbers in the list?"
   ]
  },
  {
   "cell_type": "code",
   "execution_count": 114,
   "id": "2e29a415",
   "metadata": {},
   "outputs": [],
   "source": [
    "#This will work upto two levels of nested list \n",
    "\n",
    "def multi_list(n):\n",
    "    result=1\n",
    "    if type(n)==list:\n",
    "        for i in n:\n",
    "            if type(i)==list:\n",
    "                for j in i:\n",
    "                    if type(j)==list or type(j)==int:\n",
    "                        result=result*j\n",
    "                    else:\n",
    "                         print('Elements in the list are non int, so non multiplicable')\n",
    "                        \n",
    "            elif type(i)==int:\n",
    "                result=result*i\n",
    "            else:\n",
    "                print('Elements in the list are non int, so non multiplicable')\n",
    "    else:\n",
    "        print('This program is only valid for list and this not a list')\n",
    "    return result"
   ]
  },
  {
   "cell_type": "code",
   "execution_count": 117,
   "id": "d3fd3b84",
   "metadata": {},
   "outputs": [
    {
     "name": "stdout",
     "output_type": "stream",
     "text": [
      "Elements in the list are non int, so non multiplicable\n"
     ]
    },
    {
     "data": {
      "text/plain": [
       "72"
      ]
     },
     "execution_count": 117,
     "metadata": {},
     "output_type": "execute_result"
    }
   ],
   "source": [
    "multi_list([2,2,3,[2,3,'sudh']])"
   ]
  },
  {
   "cell_type": "code",
   "execution_count": null,
   "id": "c60f8f28",
   "metadata": {},
   "outputs": [],
   "source": []
  },
  {
   "cell_type": "code",
   "execution_count": 139,
   "id": "858121eb",
   "metadata": {},
   "outputs": [],
   "source": [
    "def min_list(n):\n",
    "    if type(n)==list:\n",
    "        for i in n:\n",
    "            result=min(n)\n",
    "    else:\n",
    "        print('This program is only valid for list and this is not a list')\n",
    "    return result"
   ]
  },
  {
   "cell_type": "markdown",
   "id": "e20f6808",
   "metadata": {},
   "source": [
    "min_list([1,2,3]"
   ]
  },
  {
   "cell_type": "code",
   "execution_count": 143,
   "id": "dcd6416f",
   "metadata": {},
   "outputs": [],
   "source": [
    "l=['sudh','Kumar','python']"
   ]
  },
  {
   "cell_type": "code",
   "execution_count": 144,
   "id": "0b4b3a5e",
   "metadata": {},
   "outputs": [
    {
     "data": {
      "text/plain": [
       "'Kumar'"
      ]
     },
     "execution_count": 144,
     "metadata": {},
     "output_type": "execute_result"
    }
   ],
   "source": [
    "min_list(l)"
   ]
  },
  {
   "cell_type": "markdown",
   "id": "6ba38260",
   "metadata": {},
   "source": [
    "4.\tWrite a Python program to find largest number in a list?"
   ]
  },
  {
   "cell_type": "code",
   "execution_count": 174,
   "id": "1df64c84",
   "metadata": {},
   "outputs": [],
   "source": [
    "def max_list(n):\n",
    "    l=[]\n",
    "    for i in range(1,n+1):\n",
    "        n=int(input('enter a nymber:'))\n",
    "        l.append(n)\n",
    "    return print('Highest number in the list: ',max(l))\n",
    "    \n",
    "        "
   ]
  },
  {
   "cell_type": "code",
   "execution_count": 175,
   "id": "0a3deb6d",
   "metadata": {},
   "outputs": [
    {
     "name": "stdout",
     "output_type": "stream",
     "text": [
      "enter a nymber:45\n",
      "enter a nymber:46\n",
      "enter a nymber:98\n",
      "Highest number in the list:  98\n"
     ]
    }
   ],
   "source": [
    "max_list(3)"
   ]
  },
  {
   "cell_type": "markdown",
   "id": "4ec7f107",
   "metadata": {},
   "source": [
    "5.\tWrite a Python program to find second largest number in a list?"
   ]
  },
  {
   "cell_type": "code",
   "execution_count": 178,
   "id": "0b4ca66c",
   "metadata": {},
   "outputs": [],
   "source": [
    "def second_largest(n):\n",
    "    l=[]\n",
    "    for i in range(1,n+1):\n",
    "        n=int(input('Enter a Number: '))\n",
    "        l.append(n)\n",
    "        l.sort()\n",
    "    return print('The second largest number in the list: ',l[-2])"
   ]
  },
  {
   "cell_type": "code",
   "execution_count": 180,
   "id": "311ee53d",
   "metadata": {},
   "outputs": [
    {
     "name": "stdout",
     "output_type": "stream",
     "text": [
      "Enter a Number: 45\n",
      "Enter a Number: 69\n",
      "Enter a Number: 96\n",
      "Enter a Number: 300\n",
      "The second largest number in the list:  96\n"
     ]
    }
   ],
   "source": [
    "second_largest(4)"
   ]
  },
  {
   "cell_type": "markdown",
   "id": "b621e174",
   "metadata": {},
   "source": [
    "6.\tWrite a Python program to find N largest elements from a list?"
   ]
  },
  {
   "cell_type": "code",
   "execution_count": 251,
   "id": "5d1f987b",
   "metadata": {},
   "outputs": [],
   "source": [
    "def Nth_largest(n,p):\n",
    "    l=[]\n",
    "    for i in range(1,n+1):\n",
    "        p=p\n",
    "        n=int(input('Enter a Number: '))\n",
    "        l.append(n)\n",
    "        l.sort()\n",
    "        print(l)\n",
    "    return print('The {}th largest number in the list: '.format(p),l[-p])"
   ]
  },
  {
   "cell_type": "code",
   "execution_count": 252,
   "id": "75b5a05d",
   "metadata": {},
   "outputs": [
    {
     "name": "stdout",
     "output_type": "stream",
     "text": [
      "Enter a Number: 56\n",
      "[56]\n",
      "Enter a Number: 69\n",
      "[56, 69]\n",
      "Enter a Number: 99\n",
      "[56, 69, 99]\n",
      "The 3th largest number in the list:  56\n"
     ]
    }
   ],
   "source": [
    "Nth_largest(3,3)"
   ]
  },
  {
   "cell_type": "code",
   "execution_count": 241,
   "id": "47a7ae28",
   "metadata": {},
   "outputs": [
    {
     "data": {
      "text/plain": [
       "[22, 45, 68, 78, 96, 102]"
      ]
     },
     "execution_count": 241,
     "metadata": {},
     "output_type": "execute_result"
    }
   ],
   "source": [
    "l=[45,96,68,78,22,102]\n",
    "l.sort()\n",
    "l"
   ]
  },
  {
   "cell_type": "code",
   "execution_count": 198,
   "id": "4a159522",
   "metadata": {},
   "outputs": [
    {
     "name": "stdout",
     "output_type": "stream",
     "text": [
      "78\n"
     ]
    }
   ],
   "source": [
    "for i in range(len(l)):\n",
    "    l.sort()\n",
    "    print(l[i-1])\n",
    "    break"
   ]
  },
  {
   "cell_type": "code",
   "execution_count": 259,
   "id": "b39049dc",
   "metadata": {},
   "outputs": [],
   "source": [
    "def Nth_largest(p,n):\n",
    "    \"\"\"\n",
    "    This function finds out the nth highest number.\n",
    "    p is the number of the integers to form a list\n",
    "    n=the desired highest number\n",
    "    \n",
    "    \"\"\"\n",
    "    l=[]\n",
    "    for i in range(1,p+1):\n",
    "        n=n\n",
    "        p=int(input('Enter a Number: '))\n",
    "        l.append(p)\n",
    "        l.sort()\n",
    "        print(l)\n",
    "    return print('The {}th largest number in the list: '.format(n),l[-n])"
   ]
  },
  {
   "cell_type": "code",
   "execution_count": 254,
   "id": "b80f5878",
   "metadata": {},
   "outputs": [
    {
     "name": "stdout",
     "output_type": "stream",
     "text": [
      "Enter a Number: 45\n",
      "[45]\n",
      "Enter a Number: 40\n",
      "[40, 45]\n",
      "Enter a Number: 99\n",
      "[40, 45, 99]\n",
      "Enter a Number: 63\n",
      "[40, 45, 63, 99]\n",
      "Enter a Number: 89\n",
      "[40, 45, 63, 89, 99]\n",
      "Enter a Number: 88\n",
      "[40, 45, 63, 88, 89, 99]\n",
      "The 4th largest number in the list:  63\n"
     ]
    }
   ],
   "source": [
    "Nth_largest"
   ]
  },
  {
   "cell_type": "code",
   "execution_count": 258,
   "id": "722e486c",
   "metadata": {},
   "outputs": [
    {
     "data": {
      "text/plain": [
       "[40, 45, 63, 88, 89, 99]"
      ]
     },
     "execution_count": 258,
     "metadata": {},
     "output_type": "execute_result"
    }
   ],
   "source": [
    "l=[45,40,99,63,89,88]\n",
    "l.sort()\n",
    "l"
   ]
  },
  {
   "cell_type": "markdown",
   "id": "8794072c",
   "metadata": {},
   "source": [
    "7.\tWrite a Python program to print even numbers in a list?"
   ]
  },
  {
   "cell_type": "code",
   "execution_count": 12,
   "id": "743fa26f",
   "metadata": {},
   "outputs": [],
   "source": [
    "def even_list(n):\n",
    "    l=[]\n",
    "    even_list=[]\n",
    "    for i in range(1,n+1):\n",
    "        n=int(input('Enter a number'))\n",
    "        l.append(n)\n",
    "    print('This is the initial list',l)\n",
    "    for j in l:\n",
    "        if j%2==0:\n",
    "            even_list.append(j)\n",
    "                \n",
    "    print('This is even number list',even_list)\n",
    "            "
   ]
  },
  {
   "cell_type": "code",
   "execution_count": 15,
   "id": "d0e6206d",
   "metadata": {},
   "outputs": [
    {
     "name": "stdout",
     "output_type": "stream",
     "text": [
      "Enter a number45\n",
      "This is the initial list [45]\n",
      "This is even number list []\n"
     ]
    }
   ],
   "source": [
    "even_list(1)"
   ]
  },
  {
   "cell_type": "markdown",
   "id": "49149386",
   "metadata": {},
   "source": [
    "8.\tWrite a Python program to print odd numbers in a List?"
   ]
  },
  {
   "cell_type": "code",
   "execution_count": 20,
   "id": "62b62a48",
   "metadata": {},
   "outputs": [],
   "source": [
    "def odd_list(n):\n",
    "    l=[]\n",
    "    even_list=[]\n",
    "    for i in range(1,n+1):\n",
    "        n=int(input('Enter a number'))\n",
    "        l.append(n)\n",
    "    print('This is the initial list',l)\n",
    "    for j in l:\n",
    "        if j%2!=0:\n",
    "            even_list.append(j)\n",
    "                \n",
    "    print('This is odd number list',even_list)\n",
    "            "
   ]
  },
  {
   "cell_type": "code",
   "execution_count": 73,
   "id": "784f82a0",
   "metadata": {},
   "outputs": [
    {
     "name": "stdout",
     "output_type": "stream",
     "text": [
      "Enter a number4\n",
      "Enter a number5\n",
      "Enter a number6\n",
      "Enter a number6\n",
      "This is the initial list [4, 5, 6, 6]\n",
      "This is odd number list [5]\n"
     ]
    }
   ],
   "source": [
    "odd_list(4)"
   ]
  },
  {
   "cell_type": "markdown",
   "id": "2de13ec3",
   "metadata": {},
   "source": [
    "9.\tWrite a Python program to Remove empty List from List?"
   ]
  },
  {
   "cell_type": "code",
   "execution_count": 64,
   "id": "4825668a",
   "metadata": {},
   "outputs": [],
   "source": [
    "def remov_empty(n):\n",
    "    \"\"\"\n",
    "    A function removes blank list inside a lis.\n",
    "    Also, make a new list with numbers in the initial list.\n",
    "    \n",
    "    \"\"\"\n",
    "    l=[]\n",
    "    for i in n:\n",
    "        if type(i)==list:\n",
    "            for j in i:\n",
    "                if j==[]:\n",
    "                    i.remove(j)\n",
    "                else:\n",
    "                    l.append(j)\n",
    "        else:\n",
    "            l.append(i)\n",
    "    return print('The list after removing blank list',l)\n",
    "    "
   ]
  },
  {
   "cell_type": "code",
   "execution_count": 65,
   "id": "4d90dd94",
   "metadata": {},
   "outputs": [
    {
     "name": "stdout",
     "output_type": "stream",
     "text": [
      "The list after removing blank list [2, 3, 5, 6, 7, 5, 6]\n"
     ]
    }
   ],
   "source": [
    "remov_empty([2,3,5,6,7,[],[5,6,[]]])"
   ]
  },
  {
   "cell_type": "markdown",
   "id": "48257901",
   "metadata": {},
   "source": [
    "10.\tWrite a Python program to Cloning or Copying a list?"
   ]
  },
  {
   "cell_type": "code",
   "execution_count": 106,
   "id": "0b046709",
   "metadata": {},
   "outputs": [],
   "source": [
    "def clone_list(n):\n",
    "    \"\"\"\n",
    "    This function copies a list\n",
    "    \n",
    "    \"\"\" \n",
    "    l=[]\n",
    "    for i in range(1,n+1):\n",
    "        n=int(input())\n",
    "        l.append(n)\n",
    "    print('Initial list',l)\n",
    "    l1=l.copy()\n",
    "    return print('Cloned list',l1)"
   ]
  },
  {
   "cell_type": "code",
   "execution_count": 107,
   "id": "f110f68c",
   "metadata": {},
   "outputs": [
    {
     "name": "stdout",
     "output_type": "stream",
     "text": [
      "4\n",
      "5\n",
      "6\n",
      "7\n",
      "8\n",
      "Initial list [4, 5, 6, 7, 8]\n",
      "Cloned list [4, 5, 6, 7, 8]\n"
     ]
    }
   ],
   "source": [
    "clone_list(5)"
   ]
  },
  {
   "cell_type": "code",
   "execution_count": 108,
   "id": "ef172a36",
   "metadata": {},
   "outputs": [],
   "source": [
    "def clone_list2(n):\n",
    "    \"\"\"\n",
    "    This function copies a list without using inbuilt copy function\n",
    "    \n",
    "    \"\"\" \n",
    "    l=[]\n",
    "    l1=[]\n",
    "    for i in range(1,n+1):\n",
    "        n=int(input())\n",
    "        l.append(n)\n",
    "    print('Initial list',l)\n",
    "    for i in l:\n",
    "        l1.append(i)\n",
    "    return print('Cloned list',l1)"
   ]
  },
  {
   "cell_type": "code",
   "execution_count": 109,
   "id": "553aa002",
   "metadata": {},
   "outputs": [
    {
     "name": "stdout",
     "output_type": "stream",
     "text": [
      "4\n",
      "5\n",
      "6\n",
      "7\n",
      "8\n",
      "Initial list [4, 5, 6, 7, 8]\n",
      "Cloned list [4, 5, 6, 7, 8]\n"
     ]
    }
   ],
   "source": [
    "clone_list2(5)"
   ]
  },
  {
   "cell_type": "markdown",
   "id": "14b9b9dc",
   "metadata": {},
   "source": [
    "11.\tWrite a Python program to Count occurrences of an element in a list?"
   ]
  },
  {
   "cell_type": "code",
   "execution_count": 112,
   "id": "6f579357",
   "metadata": {},
   "outputs": [],
   "source": [
    "def count_elements(n):\n",
    "    l=[]\n",
    "    count=0\n",
    "    for i in range(1,n+1):\n",
    "        n=int(input())\n",
    "        l.append(n)\n",
    "    print('Given list',l)\n",
    "    for i in l:\n",
    "        count=count+1\n",
    "    return print('Count of the elements in the list',count)"
   ]
  },
  {
   "cell_type": "code",
   "execution_count": 113,
   "id": "eba273f8",
   "metadata": {},
   "outputs": [
    {
     "name": "stdout",
     "output_type": "stream",
     "text": [
      "4\n",
      "5\n",
      "6\n",
      "3\n",
      "2\n",
      "1\n",
      "Given list [4, 5, 6, 3, 2, 1]\n",
      "Count of the elements in the list 6\n"
     ]
    }
   ],
   "source": [
    "count_elements(6)"
   ]
  },
  {
   "cell_type": "code",
   "execution_count": 99,
   "id": "807a1030",
   "metadata": {},
   "outputs": [],
   "source": [
    "def add(n):\n",
    "    \"\"\"\n",
    "    A function removes blank list inside a lis.\n",
    "    Also, make a new list with numbers in the initial list.\n",
    "    \n",
    "    \"\"\"\n",
    "    l=[]\n",
    "    result=0\n",
    "    for i in n:\n",
    "        if type(i)==list:\n",
    "            for j in i:\n",
    "                if type(j)==int:\n",
    "                    i.append(j)\n",
    "                elif type(j)==str:\n",
    "                    print('This is not an integer, so not addable')\n",
    "                elif type(j)==complex:\n",
    "                    print('This is a complex number, not addible')\n",
    "                    \n",
    "                else:\n",
    "                    l.append(j)\n",
    "        elif type(i)==int:\n",
    "            l.append(i)\n",
    "        else:\n",
    "            print('This is not addible number')\n",
    "    for k in l:\n",
    "        result=result+k\n",
    "    return l,result\n",
    "    "
   ]
  },
  {
   "cell_type": "code",
   "execution_count": 100,
   "id": "b46bc8e5",
   "metadata": {},
   "outputs": [
    {
     "ename": "KeyboardInterrupt",
     "evalue": "",
     "output_type": "error",
     "traceback": [
      "\u001b[1;31m---------------------------------------------------------------------------\u001b[0m",
      "\u001b[1;31mKeyboardInterrupt\u001b[0m                         Traceback (most recent call last)",
      "\u001b[1;32m<ipython-input-100-891b4b9b5ee4>\u001b[0m in \u001b[0;36m<module>\u001b[1;34m\u001b[0m\n\u001b[1;32m----> 1\u001b[1;33m \u001b[0madd\u001b[0m\u001b[1;33m(\u001b[0m\u001b[1;33m[\u001b[0m\u001b[1;36m2\u001b[0m\u001b[1;33m,\u001b[0m\u001b[1;36m2\u001b[0m\u001b[1;33m,\u001b[0m\u001b[1;36m3\u001b[0m\u001b[1;33m,\u001b[0m\u001b[1;33m[\u001b[0m\u001b[1;36m2\u001b[0m\u001b[1;33m,\u001b[0m\u001b[1;36m3\u001b[0m\u001b[1;33m,\u001b[0m\u001b[1;36m2\u001b[0m\u001b[1;33m,\u001b[0m\u001b[1;33m[\u001b[0m\u001b[1;36m4\u001b[0m\u001b[1;33m,\u001b[0m\u001b[1;36m5\u001b[0m\u001b[1;33m,\u001b[0m\u001b[1;33m[\u001b[0m\u001b[1;36m7\u001b[0m\u001b[1;33m,\u001b[0m\u001b[1;36m8\u001b[0m\u001b[1;33m]\u001b[0m\u001b[1;33m]\u001b[0m\u001b[1;33m]\u001b[0m\u001b[1;33m]\u001b[0m\u001b[1;33m)\u001b[0m\u001b[1;33m\u001b[0m\u001b[1;33m\u001b[0m\u001b[0m\n\u001b[0m",
      "\u001b[1;32m<ipython-input-99-5247947aa53b>\u001b[0m in \u001b[0;36madd\u001b[1;34m(n)\u001b[0m\n\u001b[0;32m     11\u001b[0m             \u001b[1;32mfor\u001b[0m \u001b[0mj\u001b[0m \u001b[1;32min\u001b[0m \u001b[0mi\u001b[0m\u001b[1;33m:\u001b[0m\u001b[1;33m\u001b[0m\u001b[1;33m\u001b[0m\u001b[0m\n\u001b[0;32m     12\u001b[0m                 \u001b[1;32mif\u001b[0m \u001b[0mtype\u001b[0m\u001b[1;33m(\u001b[0m\u001b[0mj\u001b[0m\u001b[1;33m)\u001b[0m\u001b[1;33m==\u001b[0m\u001b[0mint\u001b[0m\u001b[1;33m:\u001b[0m\u001b[1;33m\u001b[0m\u001b[1;33m\u001b[0m\u001b[0m\n\u001b[1;32m---> 13\u001b[1;33m                     \u001b[0mi\u001b[0m\u001b[1;33m.\u001b[0m\u001b[0mappend\u001b[0m\u001b[1;33m(\u001b[0m\u001b[0mj\u001b[0m\u001b[1;33m)\u001b[0m\u001b[1;33m\u001b[0m\u001b[1;33m\u001b[0m\u001b[0m\n\u001b[0m\u001b[0;32m     14\u001b[0m                 \u001b[1;32melif\u001b[0m \u001b[0mtype\u001b[0m\u001b[1;33m(\u001b[0m\u001b[0mj\u001b[0m\u001b[1;33m)\u001b[0m\u001b[1;33m==\u001b[0m\u001b[0mstr\u001b[0m\u001b[1;33m:\u001b[0m\u001b[1;33m\u001b[0m\u001b[1;33m\u001b[0m\u001b[0m\n\u001b[0;32m     15\u001b[0m                     \u001b[0mprint\u001b[0m\u001b[1;33m(\u001b[0m\u001b[1;34m'This is not an integer, so not addable'\u001b[0m\u001b[1;33m)\u001b[0m\u001b[1;33m\u001b[0m\u001b[1;33m\u001b[0m\u001b[0m\n",
      "\u001b[1;31mKeyboardInterrupt\u001b[0m: "
     ]
    }
   ],
   "source": [
    "add([2,2,3,[2,3,2,[4,5,[7,8]]]])"
   ]
  },
  {
   "cell_type": "code",
   "execution_count": 56,
   "id": "8e96946e",
   "metadata": {},
   "outputs": [],
   "source": [
    "l=[1,2,3,5,6,6]"
   ]
  },
  {
   "cell_type": "code",
   "execution_count": 57,
   "id": "0759f9f4",
   "metadata": {},
   "outputs": [],
   "source": [
    "l1=l.copy()"
   ]
  },
  {
   "cell_type": "code",
   "execution_count": 58,
   "id": "03861c18",
   "metadata": {},
   "outputs": [
    {
     "data": {
      "text/plain": [
       "[1, 2, 3, 5, 6, 6]"
      ]
     },
     "execution_count": 58,
     "metadata": {},
     "output_type": "execute_result"
    }
   ],
   "source": [
    "l1"
   ]
  },
  {
   "cell_type": "code",
   "execution_count": null,
   "id": "30dc2b19",
   "metadata": {},
   "outputs": [],
   "source": []
  }
 ],
 "metadata": {
  "kernelspec": {
   "display_name": "Python 3",
   "language": "python",
   "name": "python3"
  },
  "language_info": {
   "codemirror_mode": {
    "name": "ipython",
    "version": 3
   },
   "file_extension": ".py",
   "mimetype": "text/x-python",
   "name": "python",
   "nbconvert_exporter": "python",
   "pygments_lexer": "ipython3",
   "version": "3.8.8"
  }
 },
 "nbformat": 4,
 "nbformat_minor": 5
}
