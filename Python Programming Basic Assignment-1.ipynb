{
 "cells": [
  {
   "cell_type": "markdown",
   "id": "ffda107e",
   "metadata": {},
   "source": [
    "### Python Programming Basic Assignment-1"
   ]
  },
  {
   "cell_type": "markdown",
   "id": "5f1c602d",
   "metadata": {},
   "source": [
    "1.\tWrite a Python program to print \"Hello Python\"?"
   ]
  },
  {
   "cell_type": "code",
   "execution_count": null,
   "id": "f139978b",
   "metadata": {},
   "outputs": [],
   "source": [
    "def hello():\n",
    "    print('Hello Python')\n",
    "    "
   ]
  },
  {
   "cell_type": "code",
   "execution_count": 3,
   "id": "15171e5b",
   "metadata": {},
   "outputs": [
    {
     "name": "stdout",
     "output_type": "stream",
     "text": [
      "Hello Python\n"
     ]
    }
   ],
   "source": [
    "hello()"
   ]
  },
  {
   "cell_type": "markdown",
   "id": "f9ca62fa",
   "metadata": {},
   "source": [
    "2.\tWrite a Python program to do arithmetical operations addition and division.?"
   ]
  },
  {
   "cell_type": "code",
   "execution_count": 15,
   "id": "447e05ab",
   "metadata": {},
   "outputs": [],
   "source": [
    "def add_div():\n",
    "    try:\n",
    "        num1=int(input('Enter the first number'))\n",
    "        num2=int(input('Enter the second number'))\n",
    "        addition=num1 +num2\n",
    "        division=num1/num2\n",
    "        print('The sum of {} and {} is {}'.format(num1,num2,addition))\n",
    "        print('The division of {} and {} is {}'.format(num1,num2,division))\n",
    "              \n",
    "    except Exception as e:\n",
    "        print('An error occurred',e)\n",
    "        "
   ]
  },
  {
   "cell_type": "code",
   "execution_count": 16,
   "id": "04c1c091",
   "metadata": {},
   "outputs": [
    {
     "name": "stdout",
     "output_type": "stream",
     "text": [
      "Enter the first number14\n",
      "Enter the second number15\n",
      "The sum of 14 and 15 is 29\n",
      "The division of 14 and 15 is 0.9333333333333333\n"
     ]
    }
   ],
   "source": [
    "add_div()"
   ]
  },
  {
   "cell_type": "markdown",
   "id": "3fb25951",
   "metadata": {},
   "source": [
    "3.\tWrite a Python program to find the area of a triangle?"
   ]
  },
  {
   "cell_type": "code",
   "execution_count": 17,
   "id": "8044ccee",
   "metadata": {},
   "outputs": [],
   "source": [
    "def area_traingle(b,h):\n",
    "    Area=1/2*b*h\n",
    "    return Area\n",
    "    \n",
    "    "
   ]
  },
  {
   "cell_type": "code",
   "execution_count": 18,
   "id": "fd0d30e6",
   "metadata": {},
   "outputs": [
    {
     "data": {
      "text/plain": [
       "84.0"
      ]
     },
     "execution_count": 18,
     "metadata": {},
     "output_type": "execute_result"
    }
   ],
   "source": [
    "area_traingle(12,14)"
   ]
  },
  {
   "cell_type": "markdown",
   "id": "5dc9755a",
   "metadata": {},
   "source": [
    "4.\tWrite a Python program to swap two variables?"
   ]
  },
  {
   "cell_type": "code",
   "execution_count": 33,
   "id": "23644a2c",
   "metadata": {},
   "outputs": [
    {
     "name": "stdout",
     "output_type": "stream",
     "text": [
      "enter a numberhello\n",
      "enter a numberworld\n",
      "Before swaping the value of x:  hello Before swaping the value of y: world\n",
      "After swaping the value of x:  world After swaping the value of y: hello\n"
     ]
    }
   ],
   "source": [
    "x=input('enter a number')\n",
    "y=input('enter a number')\n",
    "print('Before swaping the value of x: ',x, 'Before swaping the value of y:',y)\n",
    "x,y=y,x\n",
    "print('After swaping the value of x: ',x, 'After swaping the value of y:',y)"
   ]
  },
  {
   "cell_type": "markdown",
   "id": "4f526b5d",
   "metadata": {},
   "source": [
    "5.\tWrite a Python program to generate a random number?"
   ]
  },
  {
   "cell_type": "code",
   "execution_count": 36,
   "id": "89c95dba",
   "metadata": {},
   "outputs": [
    {
     "name": "stdout",
     "output_type": "stream",
     "text": [
      "3\n"
     ]
    }
   ],
   "source": [
    "import random\n",
    "print(random.randint(0,9))"
   ]
  },
  {
   "cell_type": "code",
   "execution_count": null,
   "id": "94566a35",
   "metadata": {},
   "outputs": [],
   "source": []
  }
 ],
 "metadata": {
  "kernelspec": {
   "display_name": "Python 3",
   "language": "python",
   "name": "python3"
  },
  "language_info": {
   "codemirror_mode": {
    "name": "ipython",
    "version": 3
   },
   "file_extension": ".py",
   "mimetype": "text/x-python",
   "name": "python",
   "nbconvert_exporter": "python",
   "pygments_lexer": "ipython3",
   "version": "3.8.8"
  }
 },
 "nbformat": 4,
 "nbformat_minor": 5
}
