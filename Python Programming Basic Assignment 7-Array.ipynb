{
 "cells": [
  {
   "cell_type": "code",
   "execution_count": 137,
   "id": "9527be47",
   "metadata": {},
   "outputs": [],
   "source": [
    "#### Python Programming Basic Assignment 7-Array"
   ]
  },
  {
   "cell_type": "code",
   "execution_count": 138,
   "id": "420c280c",
   "metadata": {},
   "outputs": [
    {
     "data": {
      "text/plain": [
       "'C:\\\\Users\\\\chand_rqrb1g\\\\iNeo_Py_practice'"
      ]
     },
     "execution_count": 138,
     "metadata": {},
     "output_type": "execute_result"
    }
   ],
   "source": [
    "pwd()"
   ]
  },
  {
   "cell_type": "markdown",
   "id": "bad3e151",
   "metadata": {},
   "source": [
    "1.\tWrite a Python Program to find sum of array?"
   ]
  },
  {
   "cell_type": "code",
   "execution_count": 91,
   "id": "490cdc51",
   "metadata": {},
   "outputs": [
    {
     "name": "stdout",
     "output_type": "stream",
     "text": [
      "Sum of the array is  56\n"
     ]
    }
   ],
   "source": [
    "import array as ar\n",
    "\n",
    "def SumofArray(arr):\n",
    "    sum=0\n",
    "    n = len(arr)\n",
    "    for i in range(n):\n",
    "        sum = sum + arr[i]\n",
    "    return sum\n",
    "  \n",
    "#input values to list \n",
    "a = ar.array('i',[10, 21, 12, 13])\n",
    "  \n",
    "# display sum \n",
    "print ('Sum of the array is ', SumofArray(a) ) "
   ]
  },
  {
   "cell_type": "markdown",
   "id": "55823838",
   "metadata": {},
   "source": [
    "2.\tWrite a Python Program to find largest element in an array?"
   ]
  },
  {
   "cell_type": "code",
   "execution_count": 97,
   "id": "57b2e7dd",
   "metadata": {},
   "outputs": [
    {
     "name": "stdout",
     "output_type": "stream",
     "text": [
      "[10, 21, 12, 13]\n",
      "largest of the array is  21\n"
     ]
    }
   ],
   "source": [
    "import array as ar\n",
    "def largest_arr(arr):\n",
    "       \n",
    "    \n",
    "    l=[]\n",
    "    n=len(arr)\n",
    "    for i in range(n):\n",
    "        l.append(arr[i])\n",
    "        lagest_list=max(l)\n",
    "    print(l)\n",
    "    return lagest_list\n",
    "                \n",
    "#input values to list \n",
    "a = ar.array('i',[10, 21, 12, 13])    \n",
    "# display largest element \n",
    "print ('largest of the array is ', largest_arr(a) ) \n",
    "    "
   ]
  },
  {
   "cell_type": "markdown",
   "id": "06f5f19e",
   "metadata": {},
   "source": [
    "3.\tWrite a Python Program for array rotation?"
   ]
  },
  {
   "cell_type": "code",
   "execution_count": 100,
   "id": "2e6026e0",
   "metadata": {},
   "outputs": [
    {
     "name": "stdout",
     "output_type": "stream",
     "text": [
      "[13, 12, 21, 10]\n"
     ]
    }
   ],
   "source": [
    "import array as ar\n",
    "def rotation(arr):\n",
    "    l=[]\n",
    "    n=len(arr)\n",
    "    for i in range(n):\n",
    "        l.append(arr[i])\n",
    "    return l[::-1]\n",
    "\n",
    "#input values to list \n",
    "a = ar.array('i',[10, 21, 12, 13])   \n",
    "\n",
    "#display rotation\n",
    "print(rotation(a))"
   ]
  },
  {
   "cell_type": "markdown",
   "id": "c5974e6d",
   "metadata": {},
   "source": [
    "4.\tWrite a Python Program to Split the array and add the first part to the end?"
   ]
  },
  {
   "cell_type": "code",
   "execution_count": 124,
   "id": "b2ff5c48",
   "metadata": {},
   "outputs": [
    {
     "name": "stdout",
     "output_type": "stream",
     "text": [
      "Enter the position from where we want to split, an integerp\n",
      "Enter the position from where we want to split, an integer3\n",
      "[6, 52, 36, 12, 10, 5]\n"
     ]
    }
   ],
   "source": [
    "import array as arr\n",
    "def move(array):\n",
    "    while True:\n",
    "        try:\n",
    "            p=int(input('Enter the position from where we want to split, an integer'))\n",
    "            l=[]\n",
    "            n=len(array)\n",
    "            for i in range(n):\n",
    "                l.append(array[i])\n",
    "                l1=l[p:]\n",
    "                l2=l[:p]\n",
    "                l3=l1+l2\n",
    "            return l3\n",
    "            break\n",
    "        except:\n",
    "            continue\n",
    "            print('Invalid input, enter an integer')\n",
    "#input values to list \n",
    "a = ar.array('i',[12, 10, 5, 6, 52, 36])   \n",
    "\n",
    "#display rotation\n",
    "print(move(a))   \n"
   ]
  },
  {
   "cell_type": "markdown",
   "id": "69cf123d",
   "metadata": {},
   "source": [
    "5.\tWrite a Python Program to check if given array is Monotonic?"
   ]
  },
  {
   "cell_type": "code",
   "execution_count": 132,
   "id": "5eed41bb",
   "metadata": {},
   "outputs": [
    {
     "name": "stdout",
     "output_type": "stream",
     "text": [
      "True\n",
      "False\n",
      "True\n",
      "True\n"
     ]
    }
   ],
   "source": [
    "def ismonotone(a):\n",
    "    n=len(a) #size of array\n",
    "    if n==1:\n",
    "        return True\n",
    "    else:\n",
    "        #check for monotone behaviour\n",
    "        if all(a[i]>=a[i+1] for i in range(0,n-1) or a[i]<=a[i+1] for i in range(0,n-1)):\n",
    "            return True\n",
    "        else:\n",
    "            return False\n",
    "\n",
    "A = [6, 5, 4, 2]\n",
    "print(ismonotone(A))\n",
    "b = [6, 2, 4, 2]\n",
    "print(ismonotone(b))\n",
    "c=[4,3,2]\n",
    "print(ismonotone(c))\n",
    "d=[1]\n",
    "print(ismonotone(d))\n",
    "\n"
   ]
  },
  {
   "cell_type": "code",
   "execution_count": 136,
   "id": "91b97aca",
   "metadata": {},
   "outputs": [
    {
     "name": "stdout",
     "output_type": "stream",
     "text": [
      "True\n",
      "False\n",
      "True\n",
      "True\n"
     ]
    }
   ],
   "source": [
    "#Or \n",
    "def ismonotone_1(a):\n",
    "    n=len(a) #size of array\n",
    "    if n==1:\n",
    "        return True\n",
    "    else:\n",
    "        #check for monotone behaviour\n",
    "        for i in range(0,n-1):\n",
    "            if all(a[i]>=a[i+1]):\n",
    "                   return True\n",
    "        \n",
    "        for i in range(0,n-1):\n",
    "                if all(a[i]<=a[i+1]) :\n",
    "                    return True\n",
    "        \n",
    "\n",
    "A = [6, 5, 4, 2]\n",
    "print(ismonotone(A))\n",
    "b = [6, 2, 4, 2]\n",
    "print(ismonotone(b))\n",
    "c=[4,3,2]\n",
    "print(ismonotone(c))\n",
    "d=[1]\n",
    "print(ismonotone(d))\n"
   ]
  }
 ],
 "metadata": {
  "kernelspec": {
   "display_name": "Python 3",
   "language": "python",
   "name": "python3"
  },
  "language_info": {
   "codemirror_mode": {
    "name": "ipython",
    "version": 3
   },
   "file_extension": ".py",
   "mimetype": "text/x-python",
   "name": "python",
   "nbconvert_exporter": "python",
   "pygments_lexer": "ipython3",
   "version": "3.8.8"
  }
 },
 "nbformat": 4,
 "nbformat_minor": 5
}
