{
 "cells": [
  {
   "cell_type": "markdown",
   "id": "7ca8fc9e",
   "metadata": {},
   "source": [
    "Question1\n",
    "Write a function that takes a list and a number as arguments. Add the number to the end of the list, then remove the first element of the list. The function should then return the updated list.\n"
   ]
  },
  {
   "cell_type": "code",
   "execution_count": 17,
   "id": "09b5551b",
   "metadata": {},
   "outputs": [],
   "source": [
    "def next_in_line(l,n):\n",
    "    \n",
    "    ''' Destructuring is used'''\n",
    "    \n",
    "    try:\n",
    "        if type(l)==list:\n",
    "            head, *tail=l\n",
    "            tail.append(n)\n",
    "        else:\n",
    "            print('No list has been selected')\n",
    "        return tail\n",
    "    except :\n",
    "        print('No list has been selected')\n",
    "        \n",
    "    "
   ]
  },
  {
   "cell_type": "code",
   "execution_count": 18,
   "id": "66d18af1",
   "metadata": {},
   "outputs": [
    {
     "name": "stdout",
     "output_type": "stream",
     "text": [
      "No list has been selected\n"
     ]
    }
   ],
   "source": [
    "next_in_line([],6)"
   ]
  },
  {
   "cell_type": "markdown",
   "id": "b64dc73c",
   "metadata": {},
   "source": [
    "Question2\n",
    "Create the function that takes a list of dictionaries and returns the sum of people's budgets.\n"
   ]
  },
  {
   "cell_type": "code",
   "execution_count": 65,
   "id": "82951a19",
   "metadata": {},
   "outputs": [],
   "source": [
    "def get_budgets(l):\n",
    "    try:\n",
    "        l1=[]\n",
    "        budget=0\n",
    "        for i in l:\n",
    "            if type(i)==dict:\n",
    "                for j in i.items():\n",
    "                    if j[0]=='budget':\n",
    "                        l1.append(j[1])\n",
    "        for k in l1:\n",
    "            budget=budget+k\n",
    "    except Exception as e:\n",
    "        print(e)\n",
    "    \n",
    "    return budget\n",
    "        "
   ]
  },
  {
   "cell_type": "code",
   "execution_count": 67,
   "id": "cf04bb64",
   "metadata": {},
   "outputs": [
    {
     "data": {
      "text/plain": [
       "62600"
      ]
     },
     "execution_count": 67,
     "metadata": {},
     "output_type": "execute_result"
    }
   ],
   "source": [
    "get_budgets([{ \"name\": \"John\",  \"age\": 21, \"budget\": 29000 },\n",
    "  { \"name\": \"Steve\",  \"age\": 32, \"budget\": 32000 },\n",
    "  { \"name\": \"Martin\",  \"age\": 16, \"budget\": 1600 }\n",
    "]\n",
    ")"
   ]
  },
  {
   "cell_type": "markdown",
   "id": "6c5d97d1",
   "metadata": {},
   "source": [
    "Question3\n",
    "Create a function that takes a string and returns a string with its letters in alphabetical order.\n"
   ]
  },
  {
   "cell_type": "code",
   "execution_count": 80,
   "id": "7d23754b",
   "metadata": {},
   "outputs": [],
   "source": [
    "def alphabet_soup(s):\n",
    "    x=''\n",
    "    s=sorted(s)\n",
    "    for i in s:\n",
    "        x=x+i\n",
    "    return x"
   ]
  },
  {
   "cell_type": "code",
   "execution_count": 85,
   "id": "17c0186a",
   "metadata": {},
   "outputs": [
    {
     "data": {
      "text/plain": [
       "'aacijprstv'"
      ]
     },
     "execution_count": 85,
     "metadata": {},
     "output_type": "execute_result"
    }
   ],
   "source": [
    "alphabet_soup('javascript')"
   ]
  },
  {
   "cell_type": "markdown",
   "id": "183f1627",
   "metadata": {},
   "source": [
    "Question4\n",
    "Suppose that you invest $10,000 for 10 years at an interest rate of 6% compounded monthly. What will be the value of your investment at the end of the 10 year period?\n",
    "Create a function that accepts the principal p, the term in years t, the interest rate r, and the number of compounding periods per year n. The function returns the value at the end of term rounded to the nearest cent.\n"
   ]
  },
  {
   "cell_type": "code",
   "execution_count": 124,
   "id": "bc6361e7",
   "metadata": {},
   "outputs": [],
   "source": [
    "class Interest:\n",
    "    def __init__(self, p,t,r,n):\n",
    "        self.p=p\n",
    "        self.t=t\n",
    "        self.r=r\n",
    "        self.n=n\n",
    "    def __str__(self):\n",
    "        print('This is a class for Interest')\n",
    "        \n",
    "    def compound(self):\n",
    "        result=self.p*(((1)+ self.r/self.n)**(self.n*self.t))\n",
    "        return result"
   ]
  },
  {
   "cell_type": "code",
   "execution_count": 120,
   "id": "88afcef8",
   "metadata": {},
   "outputs": [],
   "source": [
    "compound_interest=Interest(100000, 20, 0.15, 365)"
   ]
  },
  {
   "cell_type": "code",
   "execution_count": 121,
   "id": "cc993a0b",
   "metadata": {},
   "outputs": [
    {
     "data": {
      "text/plain": [
       "2007316.2632325366"
      ]
     },
     "execution_count": 121,
     "metadata": {},
     "output_type": "execute_result"
    }
   ],
   "source": [
    "compound_interest.compound()"
   ]
  },
  {
   "cell_type": "code",
   "execution_count": 123,
   "id": "b44b34f3",
   "metadata": {},
   "outputs": [
    {
     "name": "stdout",
     "output_type": "stream",
     "text": [
      "This is a class function for Interest\n"
     ]
    },
    {
     "ename": "TypeError",
     "evalue": "__str__ returned non-string (type NoneType)",
     "output_type": "error",
     "traceback": [
      "\u001b[1;31m---------------------------------------------------------------------------\u001b[0m",
      "\u001b[1;31mTypeError\u001b[0m                                 Traceback (most recent call last)",
      "\u001b[1;32m<ipython-input-123-6827c6fa2290>\u001b[0m in \u001b[0;36m<module>\u001b[1;34m\u001b[0m\n\u001b[1;32m----> 1\u001b[1;33m \u001b[0mprint\u001b[0m\u001b[1;33m(\u001b[0m\u001b[0mcompound_interest\u001b[0m\u001b[1;33m)\u001b[0m\u001b[1;33m\u001b[0m\u001b[1;33m\u001b[0m\u001b[0m\n\u001b[0m",
      "\u001b[1;31mTypeError\u001b[0m: __str__ returned non-string (type NoneType)"
     ]
    }
   ],
   "source": [
    "print(compound_interest)"
   ]
  },
  {
   "cell_type": "markdown",
   "id": "9f30c42e",
   "metadata": {},
   "source": [
    "Question5\n",
    "Write a function that takes a list of elements and returns only the integers.\n"
   ]
  },
  {
   "cell_type": "code",
   "execution_count": 139,
   "id": "2be647be",
   "metadata": {},
   "outputs": [],
   "source": [
    "def return_only_integer(l):\n",
    "    try:\n",
    "        l1=[]\n",
    "        if type(l)==list:\n",
    "            for i in l:\n",
    "                if type(i)==int:\n",
    "                    l1.append(i)\n",
    "        else:\n",
    "            print('Please enter a list')\n",
    "        return l1\n",
    "    except:\n",
    "        print('Please enter a list',e)"
   ]
  },
  {
   "cell_type": "code",
   "execution_count": 141,
   "id": "81bdc0f8",
   "metadata": {},
   "outputs": [
    {
     "data": {
      "text/plain": [
       "[1]"
      ]
     },
     "execution_count": 141,
     "metadata": {},
     "output_type": "execute_result"
    }
   ],
   "source": [
    "return_only_integer([\"String\",  True,  3.3,  1])"
   ]
  },
  {
   "cell_type": "code",
   "execution_count": null,
   "id": "1f70a69f",
   "metadata": {},
   "outputs": [],
   "source": []
  }
 ],
 "metadata": {
  "kernelspec": {
   "display_name": "Python 3",
   "language": "python",
   "name": "python3"
  },
  "language_info": {
   "codemirror_mode": {
    "name": "ipython",
    "version": 3
   },
   "file_extension": ".py",
   "mimetype": "text/x-python",
   "name": "python",
   "nbconvert_exporter": "python",
   "pygments_lexer": "ipython3",
   "version": "3.8.8"
  }
 },
 "nbformat": 4,
 "nbformat_minor": 5
}
