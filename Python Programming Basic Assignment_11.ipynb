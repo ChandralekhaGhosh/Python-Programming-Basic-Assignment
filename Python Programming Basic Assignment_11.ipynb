{
 "cells": [
  {
   "cell_type": "markdown",
   "id": "66660785",
   "metadata": {},
   "source": [
    "1.\tWrite a Python program to find words which are greater than given length k?"
   ]
  },
  {
   "cell_type": "code",
   "execution_count": 15,
   "id": "f42ecbfc",
   "metadata": {},
   "outputs": [],
   "source": [
    "def word_len(k):\n",
    "    l=[]\n",
    "    n=input('Enter a word')\n",
    "    if len(n)>k:\n",
    "        return print('The length of this word is greater than {}'.format(k), n)"
   ]
  },
  {
   "cell_type": "code",
   "execution_count": 17,
   "id": "48ec0250",
   "metadata": {},
   "outputs": [
    {
     "name": "stdout",
     "output_type": "stream",
     "text": [
      "Enter a wordRabbit\n",
      "The length of this word is greater than 4 Rabbit\n"
     ]
    }
   ],
   "source": [
    "word_len(4)"
   ]
  },
  {
   "cell_type": "code",
   "execution_count": 56,
   "id": "c3cb9938",
   "metadata": {},
   "outputs": [],
   "source": [
    "def word_len2(k):\n",
    "    \"\"\"\n",
    "    This function helps finding words that are\n",
    "    longer than a given length\n",
    "    \"\"\"\n",
    "    count=0\n",
    "    n=input('Enter a word: ')\n",
    "    for i in n:\n",
    "        count=count+1\n",
    "    if count>=k:\n",
    "            print('The length of this word is {} which is greater than the desired length {}'.format(count,k), n )\n",
    "    if count<k:\n",
    "        print('The length of the word < given length')\n",
    "        "
   ]
  },
  {
   "cell_type": "code",
   "execution_count": 214,
   "id": "664da1a4",
   "metadata": {},
   "outputs": [
    {
     "name": "stdout",
     "output_type": "stream",
     "text": [
      "Enter a word: I am a person\n",
      "The length of this word is 13 which is greater than the desired length 4 I am a person\n"
     ]
    }
   ],
   "source": [
    "word_len2(4)"
   ]
  },
  {
   "cell_type": "markdown",
   "id": "eb8d7a21",
   "metadata": {},
   "source": [
    "2.\tWrite a Python program for removing i-th character from a string?"
   ]
  },
  {
   "cell_type": "code",
   "execution_count": 184,
   "id": "b6e3f0fc",
   "metadata": {},
   "outputs": [],
   "source": [
    "def remov_ith(i):\n",
    "    \"\"\"\n",
    "    To remove ith character from a string\n",
    "    return the word after removing the ith character\n",
    "    \"\"\" \n",
    "    l=[]\n",
    "    s=''\n",
    "    n=input()\n",
    "    for k in n:\n",
    "        l.append(k)\n",
    "    print ('The given original word: ',n)\n",
    "    l.pop(i)\n",
    "    for j in l:\n",
    "        s=s+j\n",
    "    print(\"After removing the ith character: \",s)"
   ]
  },
  {
   "cell_type": "code",
   "execution_count": 213,
   "id": "17f3ca37",
   "metadata": {},
   "outputs": [
    {
     "name": "stdout",
     "output_type": "stream",
     "text": [
      "I am a girl\n",
      "The given original word:  I am a girl\n",
      "After removing the ith character:  I am  girl\n"
     ]
    }
   ],
   "source": [
    "l1=remov_ith(5)"
   ]
  },
  {
   "cell_type": "markdown",
   "id": "27365146",
   "metadata": {},
   "source": [
    "3.\tWrite a Python program to split and join a string?"
   ]
  },
  {
   "cell_type": "code",
   "execution_count": 222,
   "id": "e962bca6",
   "metadata": {},
   "outputs": [],
   "source": [
    "def split_str(w):\n",
    "    l=[]\n",
    "    q=''    \n",
    "    for i in w:       \n",
    "        l.append(i)\n",
    "    print('The splitted word list',l)\n",
    "    for j in l:\n",
    "        q=q+j\n",
    "    print('The joined word: ',q)\n",
    "        \n",
    "    "
   ]
  },
  {
   "cell_type": "code",
   "execution_count": 223,
   "id": "398e3748",
   "metadata": {},
   "outputs": [
    {
     "name": "stdout",
     "output_type": "stream",
     "text": [
      "The splitted word list ['o', 'r', 'd', 'e', 'r']\n",
      "The joined word:  order\n"
     ]
    }
   ],
   "source": [
    "split_str('order')"
   ]
  },
  {
   "cell_type": "markdown",
   "id": "76925ba8",
   "metadata": {},
   "source": [
    "4.\tWrite a Python to check if a given string is binary string or not?"
   ]
  },
  {
   "cell_type": "code",
   "execution_count": 293,
   "id": "e13bf06c",
   "metadata": {},
   "outputs": [],
   "source": [
    "def binary_str(w):\n",
    "    l=[]\n",
    "    l1=list(w)\n",
    "    s=list(set(l1))\n",
    "    t=['0','1']\n",
    "    for i in s:\n",
    "        if i in t:\n",
    "            l.append('yes')\n",
    "        else:\n",
    "            l.append('No')\n",
    "    if 'No' in l:\n",
    "        print('non binary')\n",
    "    else:\n",
    "        print('binary')\n",
    "            "
   ]
  },
  {
   "cell_type": "code",
   "execution_count": 297,
   "id": "7f6cb978",
   "metadata": {},
   "outputs": [
    {
     "name": "stdout",
     "output_type": "stream",
     "text": [
      "binary\n"
     ]
    }
   ],
   "source": [
    "binary_str('1001010')"
   ]
  },
  {
   "cell_type": "markdown",
   "id": "a8f01fb6",
   "metadata": {},
   "source": [
    "5.\tWrite a Python program to find uncommon words from two Strings?"
   ]
  },
  {
   "cell_type": "code",
   "execution_count": 351,
   "id": "dbaa1edf",
   "metadata": {},
   "outputs": [],
   "source": [
    "def uncommon_word(w,p):\n",
    "    l1=w.split()\n",
    "    l2=p.split()\n",
    "    \n",
    "    lst_ucmn=[]\n",
    "    for i in l1:\n",
    "        if i not in l2:\n",
    "            lst_ucmn.append(i)\n",
    "    for j in l2:\n",
    "        if j not in l1:\n",
    "            lst_ucmn.append(j)\n",
    "    return lst_ucmn\n",
    "            "
   ]
  },
  {
   "cell_type": "code",
   "execution_count": 352,
   "id": "35d15816",
   "metadata": {},
   "outputs": [
    {
     "data": {
      "text/plain": [
       "['I', 'am', 'thinking', 'We', 'are']"
      ]
     },
     "execution_count": 352,
     "metadata": {},
     "output_type": "execute_result"
    }
   ],
   "source": [
    "uncommon_word('I am seriously thinking','We are seriously ')"
   ]
  },
  {
   "cell_type": "markdown",
   "id": "4d9899aa",
   "metadata": {},
   "source": [
    "6.\tWrite a Python to find all duplicate characters in a string?"
   ]
  },
  {
   "cell_type": "code",
   "execution_count": 359,
   "id": "8b512437",
   "metadata": {},
   "outputs": [],
   "source": [
    "def duplicate_char(s):\n",
    "    l=list(s)\n",
    "    lst_cmn=[]\n",
    "    for i in l:\n",
    "        if l.count(i)>1:\n",
    "            lst_cmn.append(i)\n",
    "    return set(lst_cmn)\n"
   ]
  },
  {
   "cell_type": "code",
   "execution_count": 360,
   "id": "c0e82a80",
   "metadata": {},
   "outputs": [
    {
     "data": {
      "text/plain": [
       "{'g', 'n'}"
      ]
     },
     "execution_count": 360,
     "metadata": {},
     "output_type": "execute_result"
    }
   ],
   "source": [
    "duplicate_char('stringgn')"
   ]
  },
  {
   "cell_type": "markdown",
   "id": "307acbe4",
   "metadata": {},
   "source": [
    "7.\tWrite a Python Program to check if a string contains any special character?"
   ]
  },
  {
   "cell_type": "code",
   "execution_count": 483,
   "id": "2dda0919",
   "metadata": {},
   "outputs": [],
   "source": [
    "def spl_char(n):\n",
    "    l=list('@_!#$%^&*()<>?/|}{~:-')\n",
    "    list_n=list(n)\n",
    "    l_spl=[]\n",
    "    for i in list_n:\n",
    "        if i in l:\n",
    "            l_spl.append(i)\n",
    "        \n",
    "    return print('special characters in the string: ', l_spl)\n",
    "   \n",
    "        \n",
    "       "
   ]
  },
  {
   "cell_type": "code",
   "execution_count": 486,
   "id": "5b76adae",
   "metadata": {},
   "outputs": [
    {
     "name": "stdout",
     "output_type": "stream",
     "text": [
      "special characters in the string:  ['^', '-', '-', '-']\n"
     ]
    }
   ],
   "source": [
    "spl_char('^0-9a-zA-Z')"
   ]
  },
  {
   "cell_type": "code",
   "execution_count": null,
   "id": "542e5d28",
   "metadata": {},
   "outputs": [],
   "source": []
  }
 ],
 "metadata": {
  "kernelspec": {
   "display_name": "Python 3",
   "language": "python",
   "name": "python3"
  },
  "language_info": {
   "codemirror_mode": {
    "name": "ipython",
    "version": 3
   },
   "file_extension": ".py",
   "mimetype": "text/x-python",
   "name": "python",
   "nbconvert_exporter": "python",
   "pygments_lexer": "ipython3",
   "version": "3.8.8"
  }
 },
 "nbformat": 4,
 "nbformat_minor": 5
}
