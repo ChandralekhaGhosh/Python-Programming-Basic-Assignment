{
 "cells": [
  {
   "cell_type": "markdown",
   "id": "6d0e97d9",
   "metadata": {},
   "source": [
    "Question 1\n",
    "Create a function that takes a number as an argument and returns True or False depending on whether the number is symmetrical or not. A number is symmetrical when it is the same as its reverse.\n"
   ]
  },
  {
   "cell_type": "code",
   "execution_count": 9,
   "id": "d0dcd884",
   "metadata": {},
   "outputs": [],
   "source": [
    "def is_symmetrical(n):\n",
    "    n=str(n)\n",
    "    rev_n=n[::-1]\n",
    "    if n==rev_n:\n",
    "        return True\n",
    "    else:\n",
    "        return False\n",
    "    "
   ]
  },
  {
   "cell_type": "code",
   "execution_count": 25,
   "id": "0e383c17",
   "metadata": {},
   "outputs": [
    {
     "data": {
      "text/plain": [
       "False"
      ]
     },
     "execution_count": 25,
     "metadata": {},
     "output_type": "execute_result"
    }
   ],
   "source": [
    "is_symmetrical(9939)"
   ]
  },
  {
   "cell_type": "markdown",
   "id": "7d6458f1",
   "metadata": {},
   "source": [
    "Question 2\n",
    "Given a string of numbers separated by a comma and space, return the product of the numbers.\n"
   ]
  },
  {
   "cell_type": "code",
   "execution_count": 87,
   "id": "b4898ad7",
   "metadata": {},
   "outputs": [],
   "source": [
    "def multiply_nums(n):\n",
    "    l1=[]\n",
    "    pdt=1\n",
    "    if type(n)==str:\n",
    "        n=n.split(',')\n",
    "        for i in n:\n",
    "            l1.append(int(i))\n",
    "    for j in l1:\n",
    "        pdt=pdt*j\n",
    "            \n",
    "        \n",
    "    return pdt"
   ]
  },
  {
   "cell_type": "code",
   "execution_count": 91,
   "id": "c4d6ffcd",
   "metadata": {},
   "outputs": [
    {
     "data": {
      "text/plain": [
       "-20"
      ]
     },
     "execution_count": 91,
     "metadata": {},
     "output_type": "execute_result"
    }
   ],
   "source": [
    "multiply_nums(\"10, -2\")"
   ]
  },
  {
   "cell_type": "markdown",
   "id": "21d017d3",
   "metadata": {},
   "source": [
    "Question 3\n",
    "Create a function that squares every digit of a number.\n"
   ]
  },
  {
   "cell_type": "code",
   "execution_count": 165,
   "id": "56b226b3",
   "metadata": {},
   "outputs": [],
   "source": [
    "def square_digits(n):\n",
    "    temp=n\n",
    "    digit=[]\n",
    "    s=\"\"\n",
    "    \n",
    "    while temp>0:\n",
    "        p=temp%10\n",
    "        digit.append(str(p**2))         \n",
    "        temp=temp//10\n",
    "    digit=digit[::-1]\n",
    "    \n",
    "    for i in digit:\n",
    "        s=s+i\n",
    "    \n",
    "    return int(s)"
   ]
  },
  {
   "cell_type": "code",
   "execution_count": 168,
   "id": "38de6c36",
   "metadata": {},
   "outputs": [
    {
     "data": {
      "text/plain": [
       "9414"
      ]
     },
     "execution_count": 168,
     "metadata": {},
     "output_type": "execute_result"
    }
   ],
   "source": [
    "square_digits(3212)"
   ]
  },
  {
   "cell_type": "markdown",
   "id": "c9e8781d",
   "metadata": {},
   "source": [
    "Question 4\n",
    "Create a function that sorts a list and removes all duplicate items from it.\n"
   ]
  },
  {
   "cell_type": "code",
   "execution_count": 171,
   "id": "aef83ddb",
   "metadata": {},
   "outputs": [],
   "source": [
    "def setify(l):\n",
    "    l=sorted(l)\n",
    "    s=set(l)\n",
    "    return list(s)"
   ]
  },
  {
   "cell_type": "code",
   "execution_count": 175,
   "id": "70329133",
   "metadata": {},
   "outputs": [
    {
     "data": {
      "text/plain": [
       "[1, 2, 3]"
      ]
     },
     "execution_count": 175,
     "metadata": {},
     "output_type": "execute_result"
    }
   ],
   "source": [
    "setify([3, 3, 3, 2, 1])"
   ]
  },
  {
   "cell_type": "markdown",
   "id": "f9bb5543",
   "metadata": {},
   "source": [
    "Question 5\n",
    "Create a function that returns the mean of all digits\n"
   ]
  },
  {
   "cell_type": "code",
   "execution_count": 178,
   "id": "afe9d53c",
   "metadata": {},
   "outputs": [],
   "source": [
    "def mean(n):\n",
    "    temp=n\n",
    "    digit=0\n",
    "    length=len(str(n))\n",
    "    \n",
    "    while temp>0:\n",
    "        p=temp%10\n",
    "        digit=digit+p\n",
    "        temp=temp//10\n",
    "    result=digit/length\n",
    "    return result"
   ]
  },
  {
   "cell_type": "code",
   "execution_count": 181,
   "id": "83249c40",
   "metadata": {},
   "outputs": [
    {
     "data": {
      "text/plain": [
       "6.0"
      ]
     },
     "execution_count": 181,
     "metadata": {},
     "output_type": "execute_result"
    }
   ],
   "source": [
    "mean(666)"
   ]
  },
  {
   "cell_type": "code",
   "execution_count": null,
   "id": "a6ecfd92",
   "metadata": {},
   "outputs": [],
   "source": []
  }
 ],
 "metadata": {
  "kernelspec": {
   "display_name": "Python 3",
   "language": "python",
   "name": "python3"
  },
  "language_info": {
   "codemirror_mode": {
    "name": "ipython",
    "version": 3
   },
   "file_extension": ".py",
   "mimetype": "text/x-python",
   "name": "python",
   "nbconvert_exporter": "python",
   "pygments_lexer": "ipython3",
   "version": "3.8.8"
  }
 },
 "nbformat": 4,
 "nbformat_minor": 5
}
