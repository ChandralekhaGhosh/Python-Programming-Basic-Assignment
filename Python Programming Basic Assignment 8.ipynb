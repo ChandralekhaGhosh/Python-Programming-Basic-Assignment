{
 "cells": [
  {
   "cell_type": "markdown",
   "id": "1dc6214f",
   "metadata": {},
   "source": [
    "#### Python Programming Basic Assignment 8"
   ]
  },
  {
   "cell_type": "markdown",
   "id": "bbba7d23",
   "metadata": {},
   "source": [
    "1.\tWrite a Python Program to Add Two Matrices?"
   ]
  },
  {
   "cell_type": "code",
   "execution_count": 39,
   "id": "17b3eb54",
   "metadata": {},
   "outputs": [
    {
     "name": "stdout",
     "output_type": "stream",
     "text": [
      "[10, 10, 13]\n",
      "[10, 10, 7]\n",
      "[10, 10, 13]\n"
     ]
    }
   ],
   "source": [
    "X = [[1,2,3],\n",
    "    [4 ,5,6],\n",
    "    [7 ,8,9]]\n",
    " \n",
    "Y = [[9,8,10],\n",
    "    [6,5,1],\n",
    "    [3,2,4]]\n",
    "\n",
    "result=[[0,0,0,],\n",
    "        [0,0,0],\n",
    "        [0,0,0]]\n",
    "\n",
    "for i in range(len(X)):\n",
    "    for j in range (len(X[0])):\n",
    "        result[i][j]=X[i][j]+Y[i][j]\n",
    "for r in result:\n",
    "    print(r)\n",
    "#print(result)\n",
    "    "
   ]
  },
  {
   "cell_type": "code",
   "execution_count": 43,
   "id": "b4652f32",
   "metadata": {},
   "outputs": [
    {
     "data": {
      "text/plain": [
       "3"
      ]
     },
     "execution_count": 43,
     "metadata": {},
     "output_type": "execute_result"
    }
   ],
   "source": [
    "len(Y[1])"
   ]
  },
  {
   "cell_type": "markdown",
   "id": "0e65ebd0",
   "metadata": {},
   "source": [
    "2.\tWrite a Python Program to Multiply Two Matrices?"
   ]
  },
  {
   "cell_type": "code",
   "execution_count": 41,
   "id": "845f6431",
   "metadata": {},
   "outputs": [
    {
     "name": "stdout",
     "output_type": "stream",
     "text": [
      "[9, 16, 30]\n",
      "[24, 25, 6]\n",
      "[21, 16, 36]\n"
     ]
    }
   ],
   "source": [
    "X = [[1,2,3],\n",
    "    [4 ,5,6],\n",
    "    [7 ,8,9]]\n",
    " \n",
    "Y = [[9,8,10],\n",
    "    [6,5,1],\n",
    "    [3,2,4]]\n",
    "\n",
    "result=[[0,0,0,],\n",
    "        [0,0,0],\n",
    "        [0,0,0]]\n",
    "\n",
    "for i in range(len(X)):\n",
    "    for j in range(len(X[0])):\n",
    "        result[i][j]=X[i][j]*Y[i][j]\n",
    "for r in result:\n",
    "    print(r)"
   ]
  },
  {
   "cell_type": "markdown",
   "id": "7890a918",
   "metadata": {},
   "source": [
    "3.\tWrite a Python Program to Transpose a Matrix?"
   ]
  },
  {
   "cell_type": "code",
   "execution_count": 46,
   "id": "cd305672",
   "metadata": {},
   "outputs": [
    {
     "name": "stdout",
     "output_type": "stream",
     "text": [
      "[1, 4]\n",
      "[2, 5]\n",
      "[3, 6]\n"
     ]
    }
   ],
   "source": [
    "X = [[1,2,3],\n",
    "    [4 ,5,6]]\n",
    "result=[[0,0],\n",
    "       [0,0],\n",
    "       [0,0]]\n",
    "for i in range(len(X)):\n",
    "    for j in range(len(X[0])):\n",
    "        result[j][i]=X[i][j]\n",
    "for i in result:\n",
    "    print(i)\n",
    " "
   ]
  },
  {
   "cell_type": "code",
   "execution_count": 47,
   "id": "c661164d",
   "metadata": {},
   "outputs": [
    {
     "name": "stdout",
     "output_type": "stream",
     "text": [
      "[9, 184]\n",
      "[24, 25]\n",
      "[21, 16]\n"
     ]
    }
   ],
   "source": [
    "X = [[1,23],\n",
    "    [4 ,5],\n",
    "    [7 ,8]]\n",
    " \n",
    "Y = [[9,8,10],\n",
    "    [6,5,1],\n",
    "    [3,2,4]]\n",
    "\n",
    "result=[[0,0],\n",
    "        [0,0],\n",
    "        [0,0]]\n",
    "\n",
    "for i in range(len(X)):\n",
    "    for j in range(len(X[0])):\n",
    "        result[i][j]=X[i][j]*Y[i][j]\n",
    "for r in result:\n",
    "    print(r)"
   ]
  },
  {
   "cell_type": "markdown",
   "id": "9756b0e3",
   "metadata": {},
   "source": [
    "4.\tWrite a Python Program to Sort Words in Alphabetic Order?"
   ]
  },
  {
   "cell_type": "code",
   "execution_count": 1,
   "id": "40adf9b1",
   "metadata": {},
   "outputs": [],
   "source": [
    "def SORT():\n",
    "    w=input('Enter a sentence or words')\n",
    "    w_cleaned=w.lower()\n",
    "    l=w_cleaned.split()\n",
    "    return sorted(l)\n",
    "    "
   ]
  },
  {
   "cell_type": "code",
   "execution_count": 2,
   "id": "c9717987",
   "metadata": {},
   "outputs": [
    {
     "name": "stdout",
     "output_type": "stream",
     "text": [
      "Enter a sentence or wordsAtu Putu Hipu Miku\n"
     ]
    },
    {
     "data": {
      "text/plain": [
       "['atu', 'hipu', 'miku', 'putu']"
      ]
     },
     "execution_count": 2,
     "metadata": {},
     "output_type": "execute_result"
    }
   ],
   "source": [
    "SORT()"
   ]
  },
  {
   "cell_type": "markdown",
   "id": "42590a59",
   "metadata": {},
   "source": [
    "5.\tWrite a Python Program to Remove Punctuation From a String?"
   ]
  },
  {
   "cell_type": "code",
   "execution_count": 23,
   "id": "3a92df81",
   "metadata": {},
   "outputs": [],
   "source": [
    "def rmv_pun():\n",
    "    w=input('Enter a sentence or words')\n",
    "      \n",
    "    punctuation='''!()-[]{};:'\"\\,<>./?@#$%^&*_~'''\n",
    "    no_punc=\"\"\n",
    "    \n",
    "    for i in w:\n",
    "        if i not in punctuation:\n",
    "            no_punc=no_punc+ i\n",
    "    return  no_punc\n",
    "            "
   ]
  },
  {
   "cell_type": "code",
   "execution_count": 24,
   "id": "e77ca275",
   "metadata": {},
   "outputs": [
    {
     "name": "stdout",
     "output_type": "stream",
     "text": [
      "Enter a sentence or wordsI'm !! wondering@Vijay why%\n"
     ]
    },
    {
     "data": {
      "text/plain": [
       "'Im  wonderingVijay why'"
      ]
     },
     "execution_count": 24,
     "metadata": {},
     "output_type": "execute_result"
    }
   ],
   "source": [
    "rmv_pun()"
   ]
  },
  {
   "cell_type": "code",
   "execution_count": null,
   "id": "e3789d89",
   "metadata": {},
   "outputs": [],
   "source": []
  }
 ],
 "metadata": {
  "kernelspec": {
   "display_name": "Python 3",
   "language": "python",
   "name": "python3"
  },
  "language_info": {
   "codemirror_mode": {
    "name": "ipython",
    "version": 3
   },
   "file_extension": ".py",
   "mimetype": "text/x-python",
   "name": "python",
   "nbconvert_exporter": "python",
   "pygments_lexer": "ipython3",
   "version": "3.8.8"
  }
 },
 "nbformat": 4,
 "nbformat_minor": 5
}
