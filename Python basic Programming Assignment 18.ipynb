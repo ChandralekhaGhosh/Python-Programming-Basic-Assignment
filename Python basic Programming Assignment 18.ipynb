{
 "cells": [
  {
   "cell_type": "markdown",
   "id": "5f610400",
   "metadata": {},
   "source": [
    "#### Python Programming Basic Assignment 18"
   ]
  },
  {
   "cell_type": "markdown",
   "id": "7b2de1a1",
   "metadata": {},
   "source": [
    "Question 1\n",
    "Create a function that takes a list of non-negative integers and strings and return a new list without the strings.\n"
   ]
  },
  {
   "cell_type": "code",
   "execution_count": 24,
   "id": "0efdb3c5",
   "metadata": {},
   "outputs": [],
   "source": [
    "def filter_list(n):\n",
    "    try:\n",
    "        l=[]\n",
    "        if type(n)==list:\n",
    "            for i in n:\n",
    "                if type(i)==int:\n",
    "                    l.append(i)\n",
    "        return l\n",
    "    except Exception as e:\n",
    "        print(e)\n",
    "    "
   ]
  },
  {
   "cell_type": "code",
   "execution_count": 25,
   "id": "2fc2cf35",
   "metadata": {},
   "outputs": [
    {
     "data": {
      "text/plain": [
       "[1, 2, 123]"
      ]
     },
     "execution_count": 25,
     "metadata": {},
     "output_type": "execute_result"
    }
   ],
   "source": [
    "filter_list([1, 2, \"aasf\", \"1\", \"123\", 123])"
   ]
  },
  {
   "cell_type": "markdown",
   "id": "5b0e7cf9",
   "metadata": {},
   "source": [
    "Question 2\n",
    "The \"Reverser\" takes a string as input and returns that string in reverse order, with the opposite case.\n"
   ]
  },
  {
   "cell_type": "code",
   "execution_count": 38,
   "id": "4559aa72",
   "metadata": {},
   "outputs": [],
   "source": [
    "def reverse(s):\n",
    "    try:\n",
    "        s1=s[::-1]\n",
    "        s2=s1.swapcase()\n",
    "        return s2\n",
    "    except Exception as e:\n",
    "        print(e)\n",
    "        \n",
    "    "
   ]
  },
  {
   "cell_type": "code",
   "execution_count": 41,
   "id": "6125bcf0",
   "metadata": {},
   "outputs": [
    {
     "data": {
      "text/plain": [
       "'RADAr'"
      ]
     },
     "execution_count": 41,
     "metadata": {},
     "output_type": "execute_result"
    }
   ],
   "source": [
    "reverse('Radar')"
   ]
  },
  {
   "cell_type": "markdown",
   "id": "835915f3",
   "metadata": {},
   "source": [
    "Question3.\n",
    "\n",
    "You can assign variables from lists like this:\n",
    "lst = [1, 2, 3, 4, 5, 6]\n",
    "first = lst[0]\n",
    "middle = lst[1:-1]\n",
    "last = lst[-1]\n",
    "\n",
    "print(first) ➞ outputs 1\n",
    "print(middle) ➞ outputs [2, 3, 4, 5]\n",
    "print(last) ➞ outputs 6\n",
    "With Python 3, you can assign variables from lists in a much more succinct way. Create variables first, middle and last from the given list using destructuring assignment (check the Resources tab for some examples), where:\n",
    "first  ➞ 1\n",
    "\n",
    "middle ➞ [2, 3, 4, 5]\n",
    "\n",
    "last ➞ 6\n",
    "Your task is to unpack the list writeyourcodehere into three variables, being first, middle, and last, with middle being everything in between the first and last element. Then print all three variables.\n"
   ]
  },
  {
   "cell_type": "code",
   "execution_count": 61,
   "id": "26fabdd5",
   "metadata": {},
   "outputs": [],
   "source": [
    "def destructuring(l):\n",
    "    try:\n",
    "        if type(l)==list:\n",
    "            first, *middle, last=l\n",
    "        print(f'first: {first}, middle: {middle}, last: {last}')\n",
    "    except Exception as e:\n",
    "        print(e)"
   ]
  },
  {
   "cell_type": "code",
   "execution_count": 64,
   "id": "eb8762cd",
   "metadata": {},
   "outputs": [
    {
     "name": "stdout",
     "output_type": "stream",
     "text": [
      "first: 1, middle: [2, 3, 4, 5], last: 6\n"
     ]
    }
   ],
   "source": [
    "destructuring([1, 2, 3, 4, 5, 6])"
   ]
  },
  {
   "cell_type": "code",
   "execution_count": 46,
   "id": "6b8bf846",
   "metadata": {},
   "outputs": [
    {
     "name": "stdout",
     "output_type": "stream",
     "text": [
      "1\n",
      "2\n",
      "[4, 5, 6, 7, 8, 9]\n"
     ]
    }
   ],
   "source": [
    "#practice\n",
    "l=[1,2,3,4,5,6,7,8,9]\n",
    "first, second, third,*rest=[1,2,3,4,5,6,7,8,9]\n",
    "print(first)\n",
    "print(second)\n",
    "print(rest)"
   ]
  },
  {
   "cell_type": "markdown",
   "id": "d1dcb104",
   "metadata": {},
   "source": [
    "Question 4\n",
    "Write a function that calculates the factorial of a number recursively.\n"
   ]
  },
  {
   "cell_type": "code",
   "execution_count": 100,
   "id": "6fb03039",
   "metadata": {},
   "outputs": [],
   "source": [
    "def factorial_recursv(n):\n",
    "    \n",
    "    try:\n",
    "        if type(n)==int:\n",
    "                      \n",
    "            if n>0:\n",
    "                \n",
    "                fact=n*factorial_recursv(n-1)\n",
    "            elif n==0:\n",
    "                fact=1\n",
    "            else:\n",
    "                print('Factorial for Negative numbers are undefined')\n",
    "       \n",
    "        return fact\n",
    "    except :\n",
    "        print('Factorial is undefiend')"
   ]
  },
  {
   "cell_type": "code",
   "execution_count": 104,
   "id": "8ab0f5b0",
   "metadata": {},
   "outputs": [
    {
     "data": {
      "text/plain": [
       "1"
      ]
     },
     "execution_count": 104,
     "metadata": {},
     "output_type": "execute_result"
    }
   ],
   "source": [
    "factorial_recursv(0)"
   ]
  },
  {
   "cell_type": "markdown",
   "id": "a3e8c2ac",
   "metadata": {},
   "source": [
    "Question 5\n",
    "Write a function that moves all elements of one type to the end of the list.\n"
   ]
  },
  {
   "cell_type": "code",
   "execution_count": 126,
   "id": "053d8d12",
   "metadata": {},
   "outputs": [],
   "source": [
    "def move_to_end(l,x):\n",
    "    l1=[]\n",
    "    if type(l)==list:\n",
    "        for i in l:\n",
    "            if i==x:\n",
    "                l.remove(i)\n",
    "                l.append(i)\n",
    "    return l\n",
    "    "
   ]
  },
  {
   "cell_type": "code",
   "execution_count": 129,
   "id": "55ae4789",
   "metadata": {},
   "outputs": [
    {
     "data": {
      "text/plain": [
       "['b', 'a', 'a', 'a']"
      ]
     },
     "execution_count": 129,
     "metadata": {},
     "output_type": "execute_result"
    }
   ],
   "source": [
    "move_to_end([\"a\", \"a\", \"a\", \"b\"], \"a\")"
   ]
  },
  {
   "cell_type": "code",
   "execution_count": null,
   "id": "a066b3eb",
   "metadata": {},
   "outputs": [],
   "source": []
  }
 ],
 "metadata": {
  "kernelspec": {
   "display_name": "Python 3",
   "language": "python",
   "name": "python3"
  },
  "language_info": {
   "codemirror_mode": {
    "name": "ipython",
    "version": 3
   },
   "file_extension": ".py",
   "mimetype": "text/x-python",
   "name": "python",
   "nbconvert_exporter": "python",
   "pygments_lexer": "ipython3",
   "version": "3.8.8"
  }
 },
 "nbformat": 4,
 "nbformat_minor": 5
}
