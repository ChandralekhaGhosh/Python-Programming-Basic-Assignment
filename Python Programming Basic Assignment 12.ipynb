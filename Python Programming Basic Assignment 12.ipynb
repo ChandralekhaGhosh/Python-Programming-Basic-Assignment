{
 "cells": [
  {
   "cell_type": "markdown",
   "id": "19ad34cc",
   "metadata": {},
   "source": [
    "Python Programming Basic Assignment 12"
   ]
  },
  {
   "cell_type": "markdown",
   "id": "4dd0bcca",
   "metadata": {},
   "source": [
    "1.\tWrite a Python program to Extract Unique values dictionary values?"
   ]
  },
  {
   "cell_type": "code",
   "execution_count": 15,
   "id": "29967620",
   "metadata": {},
   "outputs": [],
   "source": [
    "def unq_dict_val(**kwargs):\n",
    "    l=[]\n",
    "    for i in kwargs.items():\n",
    "        l.append(i[1])\n",
    "    return set(l)\n",
    "        "
   ]
  },
  {
   "cell_type": "code",
   "execution_count": 16,
   "id": "ab09b5f0",
   "metadata": {},
   "outputs": [
    {
     "data": {
      "text/plain": [
       "{25, 69, 'sudh'}"
      ]
     },
     "execution_count": 16,
     "metadata": {},
     "output_type": "execute_result"
    }
   ],
   "source": [
    "unq_dict_val(a=25,b=25,c=69,name='sudh')"
   ]
  },
  {
   "cell_type": "markdown",
   "id": "ee6f75e6",
   "metadata": {},
   "source": [
    "2.\tWrite a Python program to find the sum of all items in a dictionary?"
   ]
  },
  {
   "cell_type": "code",
   "execution_count": 24,
   "id": "c8a3a0e2",
   "metadata": {},
   "outputs": [],
   "source": [
    "def sum_dict(**kwargs):\n",
    "    c=0\n",
    "    for i in kwargs.values():\n",
    "        if type(i)==int:\n",
    "            c=c+i\n",
    "        elif type(i)==list:\n",
    "            for j in i:\n",
    "                c=c+j\n",
    "        elif type(i)==float:\n",
    "            c=c+i\n",
    "        else:\n",
    "            print('Not addible')\n",
    "    return c"
   ]
  },
  {
   "cell_type": "code",
   "execution_count": 29,
   "id": "9e96744c",
   "metadata": {},
   "outputs": [
    {
     "name": "stdout",
     "output_type": "stream",
     "text": [
      "Not addible\n"
     ]
    },
    {
     "data": {
      "text/plain": [
       "125.5"
      ]
     },
     "execution_count": 29,
     "metadata": {},
     "output_type": "execute_result"
    }
   ],
   "source": [
    "sum_dict(a=25,b=25.50,c=69,p=[1,2,3],q='munna')"
   ]
  },
  {
   "cell_type": "markdown",
   "id": "b3a9fbb5",
   "metadata": {},
   "source": [
    "3.\tWrite a Python program to Merging two Dictionaries?"
   ]
  },
  {
   "cell_type": "code",
   "execution_count": 5,
   "id": "937ad81a",
   "metadata": {},
   "outputs": [],
   "source": [
    "def merge_dict(dict1,dict2):\n",
    "    \"\"\"\n",
    "    This function merges two dictionaries using ** operator.\n",
    "    The ** operator unpacks the two dictionaries.\n",
    "    \"\"\"\n",
    "    \n",
    "    return {**dict1,**dict2}"
   ]
  },
  {
   "cell_type": "code",
   "execution_count": 6,
   "id": "713e4af9",
   "metadata": {},
   "outputs": [
    {
     "data": {
      "text/plain": [
       "{'a': 10, 'b': 8, 'd': 6, 'c': 4}"
      ]
     },
     "execution_count": 6,
     "metadata": {},
     "output_type": "execute_result"
    }
   ],
   "source": [
    "dict1 = {'a': 10, 'b': 8}\n",
    "dict2 = {'d': 6, 'c': 4}\n",
    "merge_dict({'a': 10, 'b': 8},{'d': 6, 'c': 4})"
   ]
  },
  {
   "cell_type": "markdown",
   "id": "3423b21e",
   "metadata": {},
   "source": [
    "4.\tWrite a Python program to convert key-values list to flat dictionary?"
   ]
  },
  {
   "cell_type": "code",
   "execution_count": 7,
   "id": "757afb20",
   "metadata": {},
   "outputs": [],
   "source": [
    "def keyval(**kwargs):\n",
    "    return kwargs"
   ]
  },
  {
   "cell_type": "code",
   "execution_count": 8,
   "id": "4656cbc3",
   "metadata": {},
   "outputs": [
    {
     "data": {
      "text/plain": [
       "{'a': 100, 'b': 5663, 'c': 78, 'd': [10, 'sudh', 45], 'e': 'kumar'}"
      ]
     },
     "execution_count": 8,
     "metadata": {},
     "output_type": "execute_result"
    }
   ],
   "source": [
    "keyval(a=100,b=5663,c=78,d=[10,'sudh',45],e='kumar')"
   ]
  },
  {
   "cell_type": "markdown",
   "id": "900230e4",
   "metadata": {},
   "source": [
    "5.\tWrite a Python program to insertion at the beginning in OrderedDict?"
   ]
  },
  {
   "cell_type": "code",
   "execution_count": 33,
   "id": "cb25cc17",
   "metadata": {},
   "outputs": [],
   "source": [
    "#Plz Help, below is not working\n",
    "\n",
    "def orederedict(dict1,dict2):\n",
    "    lst_dict=list(dict1)\n",
    "    return lst_dict.insert(0,dict2)\n",
    "\n",
    "orederedict({'a': 10, 'b': 8},{'d': 6, 'c': 4})"
   ]
  },
  {
   "cell_type": "markdown",
   "id": "c459f81c",
   "metadata": {},
   "source": [
    "6.\tWrite a Python program to check order of character in string using OrderedDict()?"
   ]
  },
  {
   "cell_type": "code",
   "execution_count": null,
   "id": "9188ae34",
   "metadata": {},
   "outputs": [],
   "source": [
    "#Plz Help"
   ]
  },
  {
   "cell_type": "markdown",
   "id": "a6a57ac6",
   "metadata": {},
   "source": [
    "7.\tWrite a Python program to sort Python Dictionaries by Key or Value?"
   ]
  },
  {
   "cell_type": "code",
   "execution_count": 66,
   "id": "71169521",
   "metadata": {},
   "outputs": [],
   "source": [
    "#Plz help\n",
    "def sort_keys(**kwargs):\n",
    "    for i in sorted(kwargs.values()):\n",
    "        for j in kwargs.keys():\n",
    "                print(i,j)"
   ]
  },
  {
   "cell_type": "code",
   "execution_count": 67,
   "id": "d423ccbf",
   "metadata": {},
   "outputs": [
    {
     "name": "stdout",
     "output_type": "stream",
     "text": [
      "10 a\n",
      "10 c\n",
      "10 b\n",
      "49 a\n",
      "49 c\n",
      "49 b\n",
      "56 a\n",
      "56 c\n",
      "56 b\n"
     ]
    }
   ],
   "source": [
    "sort_keys(a=10,c=56,b=49)"
   ]
  },
  {
   "cell_type": "code",
   "execution_count": null,
   "id": "3efa44d0",
   "metadata": {},
   "outputs": [],
   "source": []
  }
 ],
 "metadata": {
  "kernelspec": {
   "display_name": "Python 3",
   "language": "python",
   "name": "python3"
  },
  "language_info": {
   "codemirror_mode": {
    "name": "ipython",
    "version": 3
   },
   "file_extension": ".py",
   "mimetype": "text/x-python",
   "name": "python",
   "nbconvert_exporter": "python",
   "pygments_lexer": "ipython3",
   "version": "3.8.8"
  }
 },
 "nbformat": 4,
 "nbformat_minor": 5
}
