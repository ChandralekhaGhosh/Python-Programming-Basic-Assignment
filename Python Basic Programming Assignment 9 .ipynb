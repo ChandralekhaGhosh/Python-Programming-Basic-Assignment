{
 "cells": [
  {
   "cell_type": "code",
   "execution_count": null,
   "id": "39c5c15d",
   "metadata": {},
   "outputs": [],
   "source": [
    "1. Write a Python program to check if the given number is a Disarium Number?"
   ]
  },
  {
   "cell_type": "code",
   "execution_count": 29,
   "id": "b7e9978b",
   "metadata": {},
   "outputs": [
    {
     "name": "stdout",
     "output_type": "stream",
     "text": [
      "100\n",
      "0\n",
      "0\n",
      "1\n",
      "No its not a disarium number\n"
     ]
    }
   ],
   "source": [
    "n=int(input())\n",
    "summ=0\n",
    "count_digit=len(str(n))\n",
    "temp=n\n",
    "while temp>0:\n",
    "    digit=temp%10\n",
    "    summ=summ+digit**count_digit\n",
    "    temp=temp//10\n",
    "    count_digit=count_digit-1\n",
    "    print(digit)\n",
    "    \n",
    "if summ==n:\n",
    "    print('yes its a disarium numnber')\n",
    "else:\n",
    "    print('No its not a disarium number')\n",
    "    \n",
    "    \n",
    " \n",
    "    "
   ]
  },
  {
   "cell_type": "markdown",
   "id": "0b86633e",
   "metadata": {},
   "source": [
    "2.\tWrite a Python program to print all disarium numbers between 1 to 100?"
   ]
  },
  {
   "cell_type": "code",
   "execution_count": 30,
   "id": "af985cda",
   "metadata": {},
   "outputs": [
    {
     "name": "stdout",
     "output_type": "stream",
     "text": [
      "List of Disarium number between 1 & 100:  [1, 2, 3, 4, 5, 6, 7, 8, 9, 89]\n"
     ]
    }
   ],
   "source": [
    "def Disarium(num):\n",
    "    summ=0\n",
    "    count_digit=len(str(num))\n",
    "    temp=num\n",
    "    while temp>0:\n",
    "        digit=temp%10\n",
    "        summ=summ+digit**count_digit\n",
    "        temp=temp//10\n",
    "        count_digit=count_digit-1\n",
    "    return summ\n",
    "    \n",
    "l=[]\n",
    "for i in range(1,101):\n",
    "    if Disarium(i)==i:\n",
    "        l.append(i)\n",
    "print('List of Disarium number between 1 & 100: ', l)\n",
    "    \n",
    "    "
   ]
  },
  {
   "cell_type": "markdown",
   "id": "f2936f7b",
   "metadata": {},
   "source": [
    "3.\tWrite a Python program to check if the given number is Happy Number?"
   ]
  },
  {
   "cell_type": "code",
   "execution_count": 31,
   "id": "b72990de",
   "metadata": {},
   "outputs": [
    {
     "name": "stdout",
     "output_type": "stream",
     "text": [
      "123\n",
      "Its an Unhappy number\n"
     ]
    }
   ],
   "source": [
    "def squarenum(n):\n",
    "    summ=0\n",
    "    temp=n\n",
    "    while temp>0:\n",
    "        digit=temp%10\n",
    "        summ=summ+(digit**2)\n",
    "        temp=temp//10\n",
    "    return summ\n",
    "\n",
    "num=int(input())\n",
    "result=num\n",
    "\n",
    "while (result!=1 and result!=4):\n",
    "    result=squarenum(result)\n",
    "    \n",
    "if squarenum(result)==1:\n",
    "    print('its hHappy Number')\n",
    "    \n",
    "else:\n",
    "    print('Its an Unhappy number')"
   ]
  },
  {
   "cell_type": "markdown",
   "id": "ed0cb6b4",
   "metadata": {},
   "source": [
    "4.\tWrite a Python program to print all happy numbers between 1 and 100?"
   ]
  },
  {
   "cell_type": "code",
   "execution_count": 32,
   "id": "61d9ca68",
   "metadata": {},
   "outputs": [
    {
     "name": "stdout",
     "output_type": "stream",
     "text": [
      "1 7 10 13 19 23 28 31 32 44 49 68 70 79 82 86 91 94 97 100 "
     ]
    }
   ],
   "source": [
    "for i in range(1,101):\n",
    "    result=i\n",
    "    while (result!=1  and result!=4):\n",
    "        result=squarenum(result)\n",
    "    if squarenum(result)==1:\n",
    "        print(i,end=\" \")\n",
    "    "
   ]
  },
  {
   "cell_type": "markdown",
   "id": "8d4e1a34",
   "metadata": {},
   "source": [
    "5.\tWrite a Python program to determine whether the given number is a Harshad Number?"
   ]
  },
  {
   "cell_type": "code",
   "execution_count": 35,
   "id": "8a08e991",
   "metadata": {},
   "outputs": [
    {
     "name": "stdout",
     "output_type": "stream",
     "text": [
      "29\n",
      "Not A Harshad Number\n"
     ]
    }
   ],
   "source": [
    "def Harshad(num):    \n",
    "    summ=0\n",
    "    temp=num\n",
    "    while temp>0:\n",
    "        digit=temp%10\n",
    "        summ=summ+(digit**1)\n",
    "        temp=temp//10\n",
    "    result=num%summ\n",
    "    return result\n",
    "\n",
    "num=int(input())\n",
    "\n",
    "if Harshad(num)==0:\n",
    "    print('Harshad Number')\n",
    "else:\n",
    "    print('Not A Harshad Number')"
   ]
  },
  {
   "cell_type": "markdown",
   "id": "c5bda0b1",
   "metadata": {},
   "source": [
    "6.\tWrite a Python program to print all pronic numbers between 1 and 100?"
   ]
  },
  {
   "cell_type": "code",
   "execution_count": 36,
   "id": "a2a00316",
   "metadata": {},
   "outputs": [
    {
     "name": "stdout",
     "output_type": "stream",
     "text": [
      "1 2 3 4 5 6 7 8 9 10 12 18 20 21 24 27 30 36 40 42 45 48 50 54 60 63 70 72 80 81 84 90 "
     ]
    }
   ],
   "source": [
    "for i in range(1,100):\n",
    "    res=i\n",
    "    if Harshad(res)==0:\n",
    "        print(res, end=\" \")"
   ]
  },
  {
   "cell_type": "code",
   "execution_count": null,
   "id": "79680db5",
   "metadata": {},
   "outputs": [],
   "source": []
  }
 ],
 "metadata": {
  "kernelspec": {
   "display_name": "Python 3",
   "language": "python",
   "name": "python3"
  },
  "language_info": {
   "codemirror_mode": {
    "name": "ipython",
    "version": 3
   },
   "file_extension": ".py",
   "mimetype": "text/x-python",
   "name": "python",
   "nbconvert_exporter": "python",
   "pygments_lexer": "ipython3",
   "version": "3.8.8"
  }
 },
 "nbformat": 4,
 "nbformat_minor": 5
}
