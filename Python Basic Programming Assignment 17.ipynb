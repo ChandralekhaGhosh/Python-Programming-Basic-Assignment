{
 "cells": [
  {
   "cell_type": "markdown",
   "id": "f32526db",
   "metadata": {},
   "source": [
    "Question1. Create a function that takes three arguments a, b, c and returns the sum of the numbers that are evenly divided by c from the range a, b inclusive."
   ]
  },
  {
   "cell_type": "code",
   "execution_count": 12,
   "id": "cf12d2f2",
   "metadata": {},
   "outputs": [],
   "source": [
    "def evenly_divisible(a,b,c):\n",
    "    try:\n",
    "        summ=0\n",
    "        for i in range(a,b+1):\n",
    "            if i%c==0:\n",
    "                summ=summ+i\n",
    "        return summ\n",
    "    except Exception as e:\n",
    "        print(e)"
   ]
  },
  {
   "cell_type": "code",
   "execution_count": 13,
   "id": "6a47be8d",
   "metadata": {},
   "outputs": [
    {
     "data": {
      "text/plain": [
       "18"
      ]
     },
     "execution_count": 13,
     "metadata": {},
     "output_type": "execute_result"
    }
   ],
   "source": [
    "evenly_divisible(1,10,3)"
   ]
  },
  {
   "cell_type": "code",
   "execution_count": 14,
   "id": "d2b32ece",
   "metadata": {},
   "outputs": [
    {
     "name": "stdout",
     "output_type": "stream",
     "text": [
      "unsupported operand type(s) for %: 'int' and 'str'\n"
     ]
    }
   ],
   "source": [
    "evenly_divisible(1,10,'l')"
   ]
  },
  {
   "cell_type": "markdown",
   "id": "8b37c9b8",
   "metadata": {},
   "source": [
    "Question2. Create a function that returns True if a given inequality expression is correct and False otherwise."
   ]
  },
  {
   "cell_type": "code",
   "execution_count": 20,
   "id": "cf294b33",
   "metadata": {},
   "outputs": [],
   "source": [
    "def correct_signs(s):\n",
    "    try:\n",
    "        result=eval(s)\n",
    "        if result==1:\n",
    "            return True\n",
    "        else:\n",
    "            return False\n",
    "    except Exception as e:\n",
    "        print(e)\n",
    "    \n",
    "        \n",
    "        "
   ]
  },
  {
   "cell_type": "code",
   "execution_count": 23,
   "id": "c660ef0e",
   "metadata": {},
   "outputs": [
    {
     "data": {
      "text/plain": [
       "True"
      ]
     },
     "execution_count": 23,
     "metadata": {},
     "output_type": "execute_result"
    }
   ],
   "source": [
    "correct_signs('1 < 2 < 6 < 9 > 3')"
   ]
  },
  {
   "cell_type": "markdown",
   "id": "ffe5d71b",
   "metadata": {},
   "source": [
    "Question3. Create a function that replaces all the vowels in a string with a specified character."
   ]
  },
  {
   "cell_type": "code",
   "execution_count": 3,
   "id": "e5a29ab1",
   "metadata": {},
   "outputs": [],
   "source": [
    "def replace_vowels(s,x):\n",
    "    vowels='aAeEiIoOuU' \n",
    "    \n",
    "    for i in vowels:\n",
    "        s=s.replace(i,x)\n",
    "    return s\n",
    "            "
   ]
  },
  {
   "cell_type": "code",
   "execution_count": 4,
   "id": "33cdb900",
   "metadata": {},
   "outputs": [
    {
     "data": {
      "text/plain": [
       "'th# ##rdv#rk'"
      ]
     },
     "execution_count": 4,
     "metadata": {},
     "output_type": "execute_result"
    }
   ],
   "source": [
    "replace_vowels(\"the aerdvark\", \"#\")"
   ]
  },
  {
   "cell_type": "code",
   "execution_count": 100,
   "id": "052e525c",
   "metadata": {},
   "outputs": [],
   "source": [
    "def replaceVowelsWithK(test_str, K):\n",
    " \n",
    "    # string of vowels\n",
    "    vowels = 'AEIOUaeiou'\n",
    " \n",
    "    # iterating to check vowels in string\n",
    "    for ele in vowels:\n",
    " \n",
    "        # replacing vowel with the specified character\n",
    "        test_str = test_str.replace(ele, K)\n",
    " \n",
    "    return test_str\n",
    " "
   ]
  },
  {
   "cell_type": "code",
   "execution_count": 101,
   "id": "6e7f9104",
   "metadata": {},
   "outputs": [
    {
     "data": {
      "text/plain": [
       "'th# ##rdv#rk'"
      ]
     },
     "execution_count": 101,
     "metadata": {},
     "output_type": "execute_result"
    }
   ],
   "source": [
    "replaceVowelsWithK('the aerdvark', '#')"
   ]
  },
  {
   "cell_type": "markdown",
   "id": "f190467e",
   "metadata": {},
   "source": [
    "Question4. Write a function that calculates the factorial of a number recursively."
   ]
  },
  {
   "cell_type": "code",
   "execution_count": 71,
   "id": "f3abc504",
   "metadata": {},
   "outputs": [],
   "source": [
    "def factorial(n):\n",
    "    try:\n",
    "        if n>0:\n",
    "            fact=1\n",
    "            for i in range(1,n+1):\n",
    "                fact=fact*i\n",
    "            return fact\n",
    "        elif n==0:\n",
    "            fact=1\n",
    "            return fact\n",
    "        else:\n",
    "            raise exception('Factorial for ',n, 'is undefined')\n",
    "    except Exception as ee:\n",
    "        print('Factorial for ',n, 'is undefined')"
   ]
  },
  {
   "cell_type": "code",
   "execution_count": 72,
   "id": "ca6d2e44",
   "metadata": {},
   "outputs": [
    {
     "name": "stdout",
     "output_type": "stream",
     "text": [
      "Factorial for  -2 is undefined\n"
     ]
    }
   ],
   "source": [
    "factorial(-2)"
   ]
  },
  {
   "cell_type": "code",
   "execution_count": 88,
   "id": "c34c1912",
   "metadata": {},
   "outputs": [],
   "source": [
    "def factorial_recu(n):\n",
    "    try:\n",
    "        if n>0:\n",
    "            fact=n*factorial_recu(n-1)\n",
    "            return fact\n",
    "        elif n==0:\n",
    "            return 1\n",
    "        \n",
    "        else:\n",
    "            raise exception('Factorial for ',n, 'is undefined') \n",
    "            \n",
    "    except:\n",
    "        print('Factorial for ',n, 'is undefined')\n"
   ]
  },
  {
   "cell_type": "code",
   "execution_count": 90,
   "id": "db43742b",
   "metadata": {},
   "outputs": [
    {
     "name": "stdout",
     "output_type": "stream",
     "text": [
      "Factorial for  -1 is undefined\n"
     ]
    }
   ],
   "source": [
    "factorial_recu(-1)"
   ]
  },
  {
   "cell_type": "code",
   "execution_count": 91,
   "id": "f568188b",
   "metadata": {},
   "outputs": [
    {
     "data": {
      "text/plain": [
       "120"
      ]
     },
     "execution_count": 91,
     "metadata": {},
     "output_type": "execute_result"
    }
   ],
   "source": [
    "factorial_recu(5)"
   ]
  },
  {
   "cell_type": "markdown",
   "id": "59f2dd04",
   "metadata": {},
   "source": [
    "Question 5. Hamming distance is the number of characters that differ between two strings."
   ]
  },
  {
   "cell_type": "code",
   "execution_count": 293,
   "id": "b2e493c4",
   "metadata": {},
   "outputs": [],
   "source": [
    "def hamming_dis(s1,s2):\n",
    "    z=zip(s1,s2)\n",
    "    \n",
    "    l=[]\n",
    "    \n",
    "    for i in z:\n",
    "        if i[0]==i[1]:\n",
    "            count=0\n",
    "        if i[0]!=i[1]:\n",
    "            l.append(i)\n",
    "        \n",
    "        for i in range(1,len(l)+1):\n",
    "            count=0\n",
    "            count=count+i\n",
    "        \n",
    "    return count\n",
    "    "
   ]
  },
  {
   "cell_type": "code",
   "execution_count": 296,
   "id": "6ab64faa",
   "metadata": {},
   "outputs": [
    {
     "data": {
      "text/plain": [
       "5"
      ]
     },
     "execution_count": 296,
     "metadata": {},
     "output_type": "execute_result"
    }
   ],
   "source": [
    "hamming_dis('abcde', 'bcdef')\n"
   ]
  }
 ],
 "metadata": {
  "kernelspec": {
   "display_name": "Python 3",
   "language": "python",
   "name": "python3"
  },
  "language_info": {
   "codemirror_mode": {
    "name": "ipython",
    "version": 3
   },
   "file_extension": ".py",
   "mimetype": "text/x-python",
   "name": "python",
   "nbconvert_exporter": "python",
   "pygments_lexer": "ipython3",
   "version": "3.8.8"
  }
 },
 "nbformat": 4,
 "nbformat_minor": 5
}
